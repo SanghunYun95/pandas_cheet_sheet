{
 "cells": [
  {
   "cell_type": "code",
   "execution_count": 1,
   "id": "137801d4",
   "metadata": {},
   "outputs": [
    {
     "data": {
      "text/html": [
       "<div>\n",
       "<style scoped>\n",
       "    .dataframe tbody tr th:only-of-type {\n",
       "        vertical-align: middle;\n",
       "    }\n",
       "\n",
       "    .dataframe tbody tr th {\n",
       "        vertical-align: top;\n",
       "    }\n",
       "\n",
       "    .dataframe thead th {\n",
       "        text-align: right;\n",
       "    }\n",
       "</style>\n",
       "<table border=\"1\" class=\"dataframe\">\n",
       "  <thead>\n",
       "    <tr style=\"text-align: right;\">\n",
       "      <th></th>\n",
       "      <th>연번</th>\n",
       "      <th>환자</th>\n",
       "      <th>확진일</th>\n",
       "      <th>거주지</th>\n",
       "      <th>여행력</th>\n",
       "      <th>접촉력</th>\n",
       "      <th>조치사항</th>\n",
       "    </tr>\n",
       "  </thead>\n",
       "  <tbody>\n",
       "    <tr>\n",
       "      <th>0</th>\n",
       "      <td>1321</td>\n",
       "      <td>12830</td>\n",
       "      <td>6.30.</td>\n",
       "      <td>영등포구</td>\n",
       "      <td>-</td>\n",
       "      <td>영등포구 확진자 접촉</td>\n",
       "      <td>-</td>\n",
       "    </tr>\n",
       "    <tr>\n",
       "      <th>1</th>\n",
       "      <td>1320</td>\n",
       "      <td>12829</td>\n",
       "      <td>6.30.</td>\n",
       "      <td>관악구</td>\n",
       "      <td>-</td>\n",
       "      <td>확인 중</td>\n",
       "      <td>보라매병원</td>\n",
       "    </tr>\n",
       "    <tr>\n",
       "      <th>2</th>\n",
       "      <td>1319</td>\n",
       "      <td>12831</td>\n",
       "      <td>6.30.</td>\n",
       "      <td>영등포구</td>\n",
       "      <td>-</td>\n",
       "      <td>확인 중</td>\n",
       "      <td>중앙대학교병원</td>\n",
       "    </tr>\n",
       "    <tr>\n",
       "      <th>3</th>\n",
       "      <td>1318</td>\n",
       "      <td>12808</td>\n",
       "      <td>6.30.</td>\n",
       "      <td>관악구</td>\n",
       "      <td>-</td>\n",
       "      <td>강남구 역삼동 모임</td>\n",
       "      <td>보라매병원</td>\n",
       "    </tr>\n",
       "    <tr>\n",
       "      <th>4</th>\n",
       "      <td>1317</td>\n",
       "      <td>12809</td>\n",
       "      <td>6.30.</td>\n",
       "      <td>관악구</td>\n",
       "      <td>-</td>\n",
       "      <td>강남구 역삼동 모임</td>\n",
       "      <td>보라매병원</td>\n",
       "    </tr>\n",
       "    <tr>\n",
       "      <th>...</th>\n",
       "      <td>...</td>\n",
       "      <td>...</td>\n",
       "      <td>...</td>\n",
       "      <td>...</td>\n",
       "      <td>...</td>\n",
       "      <td>...</td>\n",
       "      <td>...</td>\n",
       "    </tr>\n",
       "    <tr>\n",
       "      <th>1316</th>\n",
       "      <td>5</td>\n",
       "      <td>9</td>\n",
       "      <td>1.31.</td>\n",
       "      <td>성북구</td>\n",
       "      <td>-</td>\n",
       "      <td>#5 접촉</td>\n",
       "      <td>서울의료원(퇴원)</td>\n",
       "    </tr>\n",
       "    <tr>\n",
       "      <th>1317</th>\n",
       "      <td>4</td>\n",
       "      <td>7</td>\n",
       "      <td>1.30.</td>\n",
       "      <td>마포구</td>\n",
       "      <td>중국 우한시</td>\n",
       "      <td>해외 접촉</td>\n",
       "      <td>서울의료원(퇴원)</td>\n",
       "    </tr>\n",
       "    <tr>\n",
       "      <th>1318</th>\n",
       "      <td>3</td>\n",
       "      <td>6</td>\n",
       "      <td>1.30.</td>\n",
       "      <td>종로구</td>\n",
       "      <td>-</td>\n",
       "      <td>#3 접촉</td>\n",
       "      <td>서울대학교병원(퇴원)</td>\n",
       "    </tr>\n",
       "    <tr>\n",
       "      <th>1319</th>\n",
       "      <td>2</td>\n",
       "      <td>5</td>\n",
       "      <td>1.30.</td>\n",
       "      <td>중랑구</td>\n",
       "      <td>중국 우한시</td>\n",
       "      <td>해외 접촉</td>\n",
       "      <td>서울의료원(퇴원)</td>\n",
       "    </tr>\n",
       "    <tr>\n",
       "      <th>1320</th>\n",
       "      <td>1</td>\n",
       "      <td>2</td>\n",
       "      <td>1.24.</td>\n",
       "      <td>강서구</td>\n",
       "      <td>중국 우한시</td>\n",
       "      <td>해외 접촉</td>\n",
       "      <td>국립중앙의료원(퇴원)</td>\n",
       "    </tr>\n",
       "  </tbody>\n",
       "</table>\n",
       "<p>1321 rows × 7 columns</p>\n",
       "</div>"
      ],
      "text/plain": [
       "        연번     환자    확진일   거주지     여행력          접촉력         조치사항\n",
       "0     1321  12830  6.30.  영등포구       -  영등포구 확진자 접촉            -\n",
       "1     1320  12829  6.30.   관악구       -         확인 중        보라매병원\n",
       "2     1319  12831  6.30.  영등포구       -         확인 중      중앙대학교병원\n",
       "3     1318  12808  6.30.   관악구       -   강남구 역삼동 모임        보라매병원\n",
       "4     1317  12809  6.30.   관악구       -   강남구 역삼동 모임        보라매병원\n",
       "...    ...    ...    ...   ...     ...          ...          ...\n",
       "1316     5      9  1.31.   성북구       -        #5 접촉    서울의료원(퇴원)\n",
       "1317     4      7  1.30.   마포구  중국 우한시        해외 접촉    서울의료원(퇴원)\n",
       "1318     3      6  1.30.   종로구       -        #3 접촉  서울대학교병원(퇴원)\n",
       "1319     2      5  1.30.   중랑구  중국 우한시        해외 접촉    서울의료원(퇴원)\n",
       "1320     1      2  1.24.   강서구  중국 우한시        해외 접촉  국립중앙의료원(퇴원)\n",
       "\n",
       "[1321 rows x 7 columns]"
      ]
     },
     "execution_count": 1,
     "metadata": {},
     "output_type": "execute_result"
    }
   ],
   "source": [
    "import pandas as pd\n",
    "import numpy as np\n",
    "\n",
    "file_name = './material/seoul-covid19_6_30_.csv'\n",
    "df = pd.read_csv(file_name)\n",
    "df.sort_values(by='연번', ascending=False)"
   ]
  },
  {
   "cell_type": "code",
   "execution_count": 2,
   "id": "db67946e",
   "metadata": {},
   "outputs": [
    {
     "data": {
      "text/plain": [
       "<AxesSubplot:title={'center':'한글 제목'}>"
      ]
     },
     "execution_count": 2,
     "metadata": {},
     "output_type": "execute_result"
    },
    {
     "data": {
      "image/png": "[encoded data removed]",
      "text/plain": [
       "<Figure size 432x288 with 1 Axes>"
      ]
     },
     "metadata": {},
     "output_type": "display_data"
    }
   ],
   "source": [
    "#한글폰트 설정\n",
    "import matplotlib.pyplot as plt\n",
    "plt.rc('font', family='Malgun Gothic')\n",
    "plt.rc('axes', unicode_minus=False)\n",
    "\n",
    "# retina 디스플레이 지원환경에서 폰트 선명하게 하기\n",
    "#from IPython.display import set_matplotlib_formats\n",
    "#set_matplotlib_formats('retina')\n",
    "\n",
    "plt.style.use('fivethirtyeight')\n",
    "\n",
    "pd.Series([1, 3, 5, -7, 9]).plot.bar(title='한글 제목')"
   ]
  },
  {
   "cell_type": "code",
   "execution_count": 3,
   "id": "ad3c11dd",
   "metadata": {},
   "outputs": [
    {
     "name": "stderr",
     "output_type": "stream",
     "text": [
      "<ipython-input-3-e8e108ba8cc7>:2: FutureWarning: The default value of regex will change from True to False in a future version. In addition, single character regular expressions will*not* be treated as literal strings when regex=True.\n",
      "  df['확진일자'] = pd.to_datetime('2020-' + df['확진일'].str.replace('.','-'))\n"
     ]
    },
    {
     "data": {
      "text/html": [
       "<div>\n",
       "<style scoped>\n",
       "    .dataframe tbody tr th:only-of-type {\n",
       "        vertical-align: middle;\n",
       "    }\n",
       "\n",
       "    .dataframe tbody tr th {\n",
       "        vertical-align: top;\n",
       "    }\n",
       "\n",
       "    .dataframe thead th {\n",
       "        text-align: right;\n",
       "    }\n",
       "</style>\n",
       "<table border=\"1\" class=\"dataframe\">\n",
       "  <thead>\n",
       "    <tr style=\"text-align: right;\">\n",
       "      <th></th>\n",
       "      <th>확진일자</th>\n",
       "      <th>확진일</th>\n",
       "    </tr>\n",
       "  </thead>\n",
       "  <tbody>\n",
       "    <tr>\n",
       "      <th>0</th>\n",
       "      <td>2020-06-30</td>\n",
       "      <td>6.30.</td>\n",
       "    </tr>\n",
       "    <tr>\n",
       "      <th>1</th>\n",
       "      <td>2020-06-30</td>\n",
       "      <td>6.30.</td>\n",
       "    </tr>\n",
       "    <tr>\n",
       "      <th>2</th>\n",
       "      <td>2020-06-30</td>\n",
       "      <td>6.30.</td>\n",
       "    </tr>\n",
       "    <tr>\n",
       "      <th>3</th>\n",
       "      <td>2020-06-30</td>\n",
       "      <td>6.30.</td>\n",
       "    </tr>\n",
       "    <tr>\n",
       "      <th>4</th>\n",
       "      <td>2020-06-30</td>\n",
       "      <td>6.30.</td>\n",
       "    </tr>\n",
       "  </tbody>\n",
       "</table>\n",
       "</div>"
      ],
      "text/plain": [
       "        확진일자    확진일\n",
       "0 2020-06-30  6.30.\n",
       "1 2020-06-30  6.30.\n",
       "2 2020-06-30  6.30.\n",
       "3 2020-06-30  6.30.\n",
       "4 2020-06-30  6.30."
      ]
     },
     "execution_count": 3,
     "metadata": {},
     "output_type": "execute_result"
    }
   ],
   "source": [
    "# 확진일 6.30. --> 2020-06-30\n",
    "df['확진일자'] = pd.to_datetime('2020-' + df['확진일'].str.replace('.','-'))\n",
    "df[['확진일자', '확진일']].head()"
   ]
  },
  {
   "cell_type": "code",
   "execution_count": 4,
   "id": "8a471535",
   "metadata": {},
   "outputs": [
    {
     "data": {
      "text/html": [
       "<div>\n",
       "<style scoped>\n",
       "    .dataframe tbody tr th:only-of-type {\n",
       "        vertical-align: middle;\n",
       "    }\n",
       "\n",
       "    .dataframe tbody tr th {\n",
       "        vertical-align: top;\n",
       "    }\n",
       "\n",
       "    .dataframe thead th {\n",
       "        text-align: right;\n",
       "    }\n",
       "</style>\n",
       "<table border=\"1\" class=\"dataframe\">\n",
       "  <thead>\n",
       "    <tr style=\"text-align: right;\">\n",
       "      <th></th>\n",
       "      <th>확진일자</th>\n",
       "      <th>확진일</th>\n",
       "      <th>월</th>\n",
       "    </tr>\n",
       "  </thead>\n",
       "  <tbody>\n",
       "    <tr>\n",
       "      <th>0</th>\n",
       "      <td>2020-06-30</td>\n",
       "      <td>6.30.</td>\n",
       "      <td>6</td>\n",
       "    </tr>\n",
       "    <tr>\n",
       "      <th>1</th>\n",
       "      <td>2020-06-30</td>\n",
       "      <td>6.30.</td>\n",
       "      <td>6</td>\n",
       "    </tr>\n",
       "    <tr>\n",
       "      <th>2</th>\n",
       "      <td>2020-06-30</td>\n",
       "      <td>6.30.</td>\n",
       "      <td>6</td>\n",
       "    </tr>\n",
       "    <tr>\n",
       "      <th>3</th>\n",
       "      <td>2020-06-30</td>\n",
       "      <td>6.30.</td>\n",
       "      <td>6</td>\n",
       "    </tr>\n",
       "    <tr>\n",
       "      <th>4</th>\n",
       "      <td>2020-06-30</td>\n",
       "      <td>6.30.</td>\n",
       "      <td>6</td>\n",
       "    </tr>\n",
       "  </tbody>\n",
       "</table>\n",
       "</div>"
      ],
      "text/plain": [
       "        확진일자    확진일  월\n",
       "0 2020-06-30  6.30.  6\n",
       "1 2020-06-30  6.30.  6\n",
       "2 2020-06-30  6.30.  6\n",
       "3 2020-06-30  6.30.  6\n",
       "4 2020-06-30  6.30.  6"
      ]
     },
     "execution_count": 4,
     "metadata": {},
     "output_type": "execute_result"
    }
   ],
   "source": [
    "# 월 추출\n",
    "df['월'] = df['확진일자'].dt.month\n",
    "df[['확진일자', '확진일', '월']].head()"
   ]
  },
  {
   "cell_type": "code",
   "execution_count": 5,
   "id": "f9eddc3a",
   "metadata": {},
   "outputs": [
    {
     "name": "stderr",
     "output_type": "stream",
     "text": [
      "<ipython-input-5-3ef32a01d454>:2: FutureWarning: Series.dt.weekofyear and Series.dt.week have been deprecated.  Please use Series.dt.isocalendar().week instead.\n",
      "  df['주'] = df['확진일자'].dt.week\n"
     ]
    },
    {
     "data": {
      "text/html": [
       "<div>\n",
       "<style scoped>\n",
       "    .dataframe tbody tr th:only-of-type {\n",
       "        vertical-align: middle;\n",
       "    }\n",
       "\n",
       "    .dataframe tbody tr th {\n",
       "        vertical-align: top;\n",
       "    }\n",
       "\n",
       "    .dataframe thead th {\n",
       "        text-align: right;\n",
       "    }\n",
       "</style>\n",
       "<table border=\"1\" class=\"dataframe\">\n",
       "  <thead>\n",
       "    <tr style=\"text-align: right;\">\n",
       "      <th></th>\n",
       "      <th>확진일자</th>\n",
       "      <th>확진일</th>\n",
       "      <th>월</th>\n",
       "      <th>주</th>\n",
       "    </tr>\n",
       "  </thead>\n",
       "  <tbody>\n",
       "    <tr>\n",
       "      <th>0</th>\n",
       "      <td>2020-06-30</td>\n",
       "      <td>6.30.</td>\n",
       "      <td>6</td>\n",
       "      <td>27</td>\n",
       "    </tr>\n",
       "    <tr>\n",
       "      <th>1</th>\n",
       "      <td>2020-06-30</td>\n",
       "      <td>6.30.</td>\n",
       "      <td>6</td>\n",
       "      <td>27</td>\n",
       "    </tr>\n",
       "    <tr>\n",
       "      <th>2</th>\n",
       "      <td>2020-06-30</td>\n",
       "      <td>6.30.</td>\n",
       "      <td>6</td>\n",
       "      <td>27</td>\n",
       "    </tr>\n",
       "    <tr>\n",
       "      <th>3</th>\n",
       "      <td>2020-06-30</td>\n",
       "      <td>6.30.</td>\n",
       "      <td>6</td>\n",
       "      <td>27</td>\n",
       "    </tr>\n",
       "    <tr>\n",
       "      <th>4</th>\n",
       "      <td>2020-06-30</td>\n",
       "      <td>6.30.</td>\n",
       "      <td>6</td>\n",
       "      <td>27</td>\n",
       "    </tr>\n",
       "  </tbody>\n",
       "</table>\n",
       "</div>"
      ],
      "text/plain": [
       "        확진일자    확진일  월   주\n",
       "0 2020-06-30  6.30.  6  27\n",
       "1 2020-06-30  6.30.  6  27\n",
       "2 2020-06-30  6.30.  6  27\n",
       "3 2020-06-30  6.30.  6  27\n",
       "4 2020-06-30  6.30.  6  27"
      ]
     },
     "execution_count": 5,
     "metadata": {},
     "output_type": "execute_result"
    }
   ],
   "source": [
    "# 해당 연도의 몇번째 주\n",
    "df['주'] = df['확진일자'].dt.week\n",
    "df[['확진일자', '확진일', '월', '주']].head()"
   ]
  },
  {
   "cell_type": "code",
   "execution_count": 6,
   "id": "a94d5436",
   "metadata": {},
   "outputs": [
    {
     "data": {
      "text/plain": [
       "<matplotlib.lines.Line2D at 0x2036d6c3460>"
      ]
     },
     "execution_count": 6,
     "metadata": {},
     "output_type": "execute_result"
    },
    {
     "data": {
      "image/png": "[encoded data removed]",
      "text/plain": [
       "<Figure size 1080x288 with 1 Axes>"
      ]
     },
     "metadata": {},
     "output_type": "display_data"
    }
   ],
   "source": [
    "# 확진일자 선그래프\n",
    "df['확진일자'].value_counts().sort_index().plot(figsize=(15, 4))\n",
    "plt.axhline(30, color='red', linestyle=':')"
   ]
  },
  {
   "cell_type": "code",
   "execution_count": 23,
   "id": "8fb7a9cf",
   "metadata": {},
   "outputs": [
    {
     "data": {
      "image/png": "[encoded data removed]",
      "text/plain": [
       "<Figure size 1080x288 with 1 Axes>"
      ]
     },
     "metadata": {},
     "output_type": "display_data"
    }
   ],
   "source": [
    "df['월일'] = df['확진일자'].astype(str).map(lambda x : x[-5:])\n",
    "# index가 월-일 날짜이기 때문에 날짜 순으로 그리기 위해 sort_index()\n",
    "day_count = df['월일'].value_counts().sort_index()\n",
    "g = day_count.plot(figsize=(15,4))\n",
    "\n",
    "for i in range(len(day_count)):\n",
    "    case_count = day_count.iloc[i]\n",
    "    \n",
    "    if case_count > 25:\n",
    "        g.text(x=i-0.3, y=case_count, s=case_count)"
   ]
  },
  {
   "cell_type": "code",
   "execution_count": 25,
   "id": "82f3a5b9",
   "metadata": {},
   "outputs": [
    {
     "data": {
      "text/plain": [
       "count    130.000000\n",
       "mean      10.161538\n",
       "std        7.917015\n",
       "min        1.000000\n",
       "25%        4.000000\n",
       "50%        8.000000\n",
       "75%       15.000000\n",
       "max       46.000000\n",
       "Name: 월일, dtype: float64"
      ]
     },
     "execution_count": 25,
     "metadata": {},
     "output_type": "execute_result"
    }
   ],
   "source": [
    "day_count.describe()"
   ]
  },
  {
   "cell_type": "code",
   "execution_count": 26,
   "id": "1d21166f",
   "metadata": {},
   "outputs": [
    {
     "data": {
      "text/plain": [
       "03-10    46\n",
       "Name: 월일, dtype: int64"
      ]
     },
     "execution_count": 26,
     "metadata": {},
     "output_type": "execute_result"
    }
   ],
   "source": [
    "# 확진자가 가장 많은 날\n",
    "day_count[day_count == day_count.max()]"
   ]
  },
  {
   "cell_type": "code",
   "execution_count": 28,
   "id": "3cfa5dd4",
   "metadata": {},
   "outputs": [
    {
     "data": {
      "text/html": [
       "<div>\n",
       "<style scoped>\n",
       "    .dataframe tbody tr th:only-of-type {\n",
       "        vertical-align: middle;\n",
       "    }\n",
       "\n",
       "    .dataframe tbody tr th {\n",
       "        vertical-align: top;\n",
       "    }\n",
       "\n",
       "    .dataframe thead th {\n",
       "        text-align: right;\n",
       "    }\n",
       "</style>\n",
       "<table border=\"1\" class=\"dataframe\">\n",
       "  <thead>\n",
       "    <tr style=\"text-align: right;\">\n",
       "      <th></th>\n",
       "      <th>연번</th>\n",
       "      <th>환자</th>\n",
       "      <th>확진일</th>\n",
       "      <th>거주지</th>\n",
       "      <th>여행력</th>\n",
       "      <th>접촉력</th>\n",
       "      <th>조치사항</th>\n",
       "      <th>확진일자</th>\n",
       "      <th>월</th>\n",
       "      <th>주</th>\n",
       "      <th>월일</th>\n",
       "    </tr>\n",
       "  </thead>\n",
       "  <tbody>\n",
       "    <tr>\n",
       "      <th>1119</th>\n",
       "      <td>202</td>\n",
       "      <td>7567</td>\n",
       "      <td>3.10.</td>\n",
       "      <td>노원구</td>\n",
       "      <td>-</td>\n",
       "      <td>콜센터직원 접촉</td>\n",
       "      <td>서울의료원(퇴원)</td>\n",
       "      <td>2020-03-10</td>\n",
       "      <td>3</td>\n",
       "      <td>11</td>\n",
       "      <td>03-10</td>\n",
       "    </tr>\n",
       "    <tr>\n",
       "      <th>1120</th>\n",
       "      <td>201</td>\n",
       "      <td>7711</td>\n",
       "      <td>3.10.</td>\n",
       "      <td>노원구</td>\n",
       "      <td>-</td>\n",
       "      <td>콜센터직원 접촉</td>\n",
       "      <td>서울의료원(퇴원)</td>\n",
       "      <td>2020-03-10</td>\n",
       "      <td>3</td>\n",
       "      <td>11</td>\n",
       "      <td>03-10</td>\n",
       "    </tr>\n",
       "    <tr>\n",
       "      <th>1121</th>\n",
       "      <td>200</td>\n",
       "      <td>7555</td>\n",
       "      <td>3.10.</td>\n",
       "      <td>구로구</td>\n",
       "      <td>-</td>\n",
       "      <td>구로구 콜센터 관련</td>\n",
       "      <td>서남병원(퇴원)</td>\n",
       "      <td>2020-03-10</td>\n",
       "      <td>3</td>\n",
       "      <td>11</td>\n",
       "      <td>03-10</td>\n",
       "    </tr>\n",
       "    <tr>\n",
       "      <th>1122</th>\n",
       "      <td>199</td>\n",
       "      <td>7725</td>\n",
       "      <td>3.10.</td>\n",
       "      <td>양천구</td>\n",
       "      <td>-</td>\n",
       "      <td>구로구 콜센터 관련</td>\n",
       "      <td>서남병원(퇴원)</td>\n",
       "      <td>2020-03-10</td>\n",
       "      <td>3</td>\n",
       "      <td>11</td>\n",
       "      <td>03-10</td>\n",
       "    </tr>\n",
       "    <tr>\n",
       "      <th>1123</th>\n",
       "      <td>198</td>\n",
       "      <td>7539</td>\n",
       "      <td>3.10.</td>\n",
       "      <td>양천구</td>\n",
       "      <td>-</td>\n",
       "      <td>콜센터직원 접촉</td>\n",
       "      <td>서남병원(퇴원)</td>\n",
       "      <td>2020-03-10</td>\n",
       "      <td>3</td>\n",
       "      <td>11</td>\n",
       "      <td>03-10</td>\n",
       "    </tr>\n",
       "  </tbody>\n",
       "</table>\n",
       "</div>"
      ],
      "text/plain": [
       "       연번    환자    확진일  거주지 여행력         접촉력       조치사항       확진일자  월   주  \\\n",
       "1119  202  7567  3.10.  노원구   -    콜센터직원 접촉  서울의료원(퇴원) 2020-03-10  3  11   \n",
       "1120  201  7711  3.10.  노원구   -    콜센터직원 접촉  서울의료원(퇴원) 2020-03-10  3  11   \n",
       "1121  200  7555  3.10.  구로구   -  구로구 콜센터 관련   서남병원(퇴원) 2020-03-10  3  11   \n",
       "1122  199  7725  3.10.  양천구   -  구로구 콜센터 관련   서남병원(퇴원) 2020-03-10  3  11   \n",
       "1123  198  7539  3.10.  양천구   -    콜센터직원 접촉   서남병원(퇴원) 2020-03-10  3  11   \n",
       "\n",
       "         월일  \n",
       "1119  03-10  \n",
       "1120  03-10  \n",
       "1121  03-10  \n",
       "1122  03-10  \n",
       "1123  03-10  "
      ]
     },
     "execution_count": 28,
     "metadata": {},
     "output_type": "execute_result"
    }
   ],
   "source": [
    "df[df['월일'] == '03-10'].head()"
   ]
  },
  {
   "cell_type": "code",
   "execution_count": 32,
   "id": "e7843105",
   "metadata": {},
   "outputs": [
    {
     "data": {
      "text/plain": [
       "<AxesSubplot:>"
      ]
     },
     "execution_count": 32,
     "metadata": {},
     "output_type": "execute_result"
    },
    {
     "data": {
      "image/png": "[encoded data removed]",
      "text/plain": [
       "<Figure size 2160x288 with 1 Axes>"
      ]
     },
     "metadata": {},
     "output_type": "display_data"
    }
   ],
   "source": [
    "# 막대 그래프 그리기\n",
    "day_count.plot.bar(figsize=(30,4), rot=30)\n",
    "\n",
    "\n",
    "# 값이 잘 보이지 않음"
   ]
  },
  {
   "cell_type": "code",
   "execution_count": 39,
   "id": "6b28bdcf",
   "metadata": {},
   "outputs": [
    {
     "data": {
      "image/png": "[encoded data removed]",
      "text/plain": [
       "<Figure size 1080x288 with 1 Axes>"
      ]
     },
     "metadata": {},
     "output_type": "display_data"
    }
   ],
   "source": [
    "# 최근 데이터만 슬라이싱으로 나눠 그리기\n",
    "g = day_count[-50:].plot.bar(figsize=(15, 4), rot=30)\n",
    "g.axhline(day_count.median(), linestyle=':', color='red')\n",
    "\n",
    "for i in range(50):\n",
    "    case_count = day_count[-50:].iloc[i]\n",
    "    \n",
    "    if case_count > 15:\n",
    "        g.text(x=i-0.3, y=case_count, s=case_count)"
   ]
  },
  {
   "cell_type": "code",
   "execution_count": 42,
   "id": "48243101",
   "metadata": {},
   "outputs": [
    {
     "data": {
      "image/png": "[encoded data removed]",
      "text/plain": [
       "<Figure size 432x288 with 1 Axes>"
      ]
     },
     "metadata": {},
     "output_type": "display_data"
    }
   ],
   "source": [
    "# 월 별 확진자 수 그리기\n",
    "month_case = df['월'].value_counts().sort_index()\n",
    "g = month_case.plot.bar(rot=0)\n",
    "\n",
    "for i in range(len(month_case)):\n",
    "    g.text(x=i-0.2, y=month_case.iloc[i]+10, s=month_case.iloc[i])"
   ]
  },
  {
   "cell_type": "code",
   "execution_count": 43,
   "id": "e86874ab",
   "metadata": {},
   "outputs": [],
   "source": [
    "# -1 인덱스: 가장 마지막 인덱스 --> 최초 발생일, 7번째 컬럼 날짜\n",
    "first_day = df.iloc[-1, 7]\n",
    "\n",
    "# df.iloc[0]['확진일자'] 보다 아래와 같은 코드가 더 빠르다\n",
    "last_day = df.iloc[0, 7]"
   ]
  },
  {
   "cell_type": "code",
   "execution_count": 45,
   "id": "e086b2e5",
   "metadata": {},
   "outputs": [
    {
     "data": {
      "text/plain": [
       "DatetimeIndex(['2020-01-24', '2020-01-25', '2020-01-26', '2020-01-27',\n",
       "               '2020-01-28', '2020-01-29', '2020-01-30', '2020-01-31',\n",
       "               '2020-02-01', '2020-02-02',\n",
       "               ...\n",
       "               '2020-06-21', '2020-06-22', '2020-06-23', '2020-06-24',\n",
       "               '2020-06-25', '2020-06-26', '2020-06-27', '2020-06-28',\n",
       "               '2020-06-29', '2020-06-30'],\n",
       "              dtype='datetime64[ns]', length=159, freq='D')"
      ]
     },
     "execution_count": 45,
     "metadata": {},
     "output_type": "execute_result"
    }
   ],
   "source": [
    "days = pd.date_range(first_day, last_day)\n",
    "days"
   ]
  },
  {
   "cell_type": "code",
   "execution_count": 48,
   "id": "81b8d794",
   "metadata": {},
   "outputs": [
    {
     "data": {
      "text/html": [
       "<div>\n",
       "<style scoped>\n",
       "    .dataframe tbody tr th:only-of-type {\n",
       "        vertical-align: middle;\n",
       "    }\n",
       "\n",
       "    .dataframe tbody tr th {\n",
       "        vertical-align: top;\n",
       "    }\n",
       "\n",
       "    .dataframe thead th {\n",
       "        text-align: right;\n",
       "    }\n",
       "</style>\n",
       "<table border=\"1\" class=\"dataframe\">\n",
       "  <thead>\n",
       "    <tr style=\"text-align: right;\">\n",
       "      <th></th>\n",
       "      <th>확진일자</th>\n",
       "    </tr>\n",
       "  </thead>\n",
       "  <tbody>\n",
       "    <tr>\n",
       "      <th>0</th>\n",
       "      <td>2020-01-24</td>\n",
       "    </tr>\n",
       "    <tr>\n",
       "      <th>1</th>\n",
       "      <td>2020-01-25</td>\n",
       "    </tr>\n",
       "    <tr>\n",
       "      <th>2</th>\n",
       "      <td>2020-01-26</td>\n",
       "    </tr>\n",
       "    <tr>\n",
       "      <th>3</th>\n",
       "      <td>2020-01-27</td>\n",
       "    </tr>\n",
       "    <tr>\n",
       "      <th>4</th>\n",
       "      <td>2020-01-28</td>\n",
       "    </tr>\n",
       "  </tbody>\n",
       "</table>\n",
       "</div>"
      ],
      "text/plain": [
       "        확진일자\n",
       "0 2020-01-24\n",
       "1 2020-01-25\n",
       "2 2020-01-26\n",
       "3 2020-01-27\n",
       "4 2020-01-28"
      ]
     },
     "execution_count": 48,
     "metadata": {},
     "output_type": "execute_result"
    }
   ],
   "source": [
    "# Series와 DataFrame을 합치기 위해서 DataFrame으로 변환\n",
    "# 이런 방법도 있다 days.to_frame()\n",
    "df_days = pd.DataFrame({'확진일자': days})\n",
    "df_days.head()"
   ]
  },
  {
   "cell_type": "code",
   "execution_count": 50,
   "id": "431fe4ce",
   "metadata": {},
   "outputs": [
    {
     "data": {
      "text/plain": [
       "2020-03-10    46\n",
       "2020-06-12    30\n",
       "2020-06-06    29\n",
       "2020-06-05    27\n",
       "2020-03-09    26\n",
       "Name: 확진일자, dtype: int64"
      ]
     },
     "execution_count": 50,
     "metadata": {},
     "output_type": "execute_result"
    }
   ],
   "source": [
    "# 확진일자별 빈도수\n",
    "daily_case = df['확진일자'].value_counts()\n",
    "daily_case.head()"
   ]
  },
  {
   "cell_type": "code",
   "execution_count": 53,
   "id": "cee31440",
   "metadata": {},
   "outputs": [
    {
     "data": {
      "text/html": [
       "<div>\n",
       "<style scoped>\n",
       "    .dataframe tbody tr th:only-of-type {\n",
       "        vertical-align: middle;\n",
       "    }\n",
       "\n",
       "    .dataframe tbody tr th {\n",
       "        vertical-align: top;\n",
       "    }\n",
       "\n",
       "    .dataframe thead th {\n",
       "        text-align: right;\n",
       "    }\n",
       "</style>\n",
       "<table border=\"1\" class=\"dataframe\">\n",
       "  <thead>\n",
       "    <tr style=\"text-align: right;\">\n",
       "      <th></th>\n",
       "      <th>확진일자</th>\n",
       "    </tr>\n",
       "  </thead>\n",
       "  <tbody>\n",
       "    <tr>\n",
       "      <th>2020-03-10</th>\n",
       "      <td>46</td>\n",
       "    </tr>\n",
       "    <tr>\n",
       "      <th>2020-06-12</th>\n",
       "      <td>30</td>\n",
       "    </tr>\n",
       "    <tr>\n",
       "      <th>2020-06-06</th>\n",
       "      <td>29</td>\n",
       "    </tr>\n",
       "    <tr>\n",
       "      <th>2020-06-05</th>\n",
       "      <td>27</td>\n",
       "    </tr>\n",
       "    <tr>\n",
       "      <th>2020-03-09</th>\n",
       "      <td>26</td>\n",
       "    </tr>\n",
       "  </tbody>\n",
       "</table>\n",
       "</div>"
      ],
      "text/plain": [
       "            확진일자\n",
       "2020-03-10    46\n",
       "2020-06-12    30\n",
       "2020-06-06    29\n",
       "2020-06-05    27\n",
       "2020-03-09    26"
      ]
     },
     "execution_count": 53,
     "metadata": {},
     "output_type": "execute_result"
    }
   ],
   "source": [
    "#df_daily_case = daily_case.to_frame()\n",
    "df_daily_case = daily_case\n",
    "df_daily_case.head()"
   ]
  },
  {
   "cell_type": "code",
   "execution_count": 54,
   "id": "1e78499c",
   "metadata": {},
   "outputs": [
    {
     "data": {
      "text/html": [
       "<div>\n",
       "<style scoped>\n",
       "    .dataframe tbody tr th:only-of-type {\n",
       "        vertical-align: middle;\n",
       "    }\n",
       "\n",
       "    .dataframe tbody tr th {\n",
       "        vertical-align: top;\n",
       "    }\n",
       "\n",
       "    .dataframe thead th {\n",
       "        text-align: right;\n",
       "    }\n",
       "</style>\n",
       "<table border=\"1\" class=\"dataframe\">\n",
       "  <thead>\n",
       "    <tr style=\"text-align: right;\">\n",
       "      <th></th>\n",
       "      <th>확진수</th>\n",
       "    </tr>\n",
       "  </thead>\n",
       "  <tbody>\n",
       "    <tr>\n",
       "      <th>2020-03-10</th>\n",
       "      <td>46</td>\n",
       "    </tr>\n",
       "    <tr>\n",
       "      <th>2020-06-12</th>\n",
       "      <td>30</td>\n",
       "    </tr>\n",
       "    <tr>\n",
       "      <th>2020-06-06</th>\n",
       "      <td>29</td>\n",
       "    </tr>\n",
       "    <tr>\n",
       "      <th>2020-06-05</th>\n",
       "      <td>27</td>\n",
       "    </tr>\n",
       "    <tr>\n",
       "      <th>2020-03-09</th>\n",
       "      <td>26</td>\n",
       "    </tr>\n",
       "    <tr>\n",
       "      <th>...</th>\n",
       "      <td>...</td>\n",
       "    </tr>\n",
       "    <tr>\n",
       "      <th>2020-04-15</th>\n",
       "      <td>1</td>\n",
       "    </tr>\n",
       "    <tr>\n",
       "      <th>2020-02-07</th>\n",
       "      <td>1</td>\n",
       "    </tr>\n",
       "    <tr>\n",
       "      <th>2020-02-06</th>\n",
       "      <td>1</td>\n",
       "    </tr>\n",
       "    <tr>\n",
       "      <th>2020-05-17</th>\n",
       "      <td>1</td>\n",
       "    </tr>\n",
       "    <tr>\n",
       "      <th>2020-04-24</th>\n",
       "      <td>1</td>\n",
       "    </tr>\n",
       "  </tbody>\n",
       "</table>\n",
       "<p>130 rows × 1 columns</p>\n",
       "</div>"
      ],
      "text/plain": [
       "            확진수\n",
       "2020-03-10   46\n",
       "2020-06-12   30\n",
       "2020-06-06   29\n",
       "2020-06-05   27\n",
       "2020-03-09   26\n",
       "...         ...\n",
       "2020-04-15    1\n",
       "2020-02-07    1\n",
       "2020-02-06    1\n",
       "2020-05-17    1\n",
       "2020-04-24    1\n",
       "\n",
       "[130 rows x 1 columns]"
      ]
     },
     "execution_count": 54,
     "metadata": {},
     "output_type": "execute_result"
    }
   ],
   "source": [
    "df_daily_case.columns = ['확진수']\n",
    "df_daily_case"
   ]
  },
  {
   "cell_type": "code",
   "execution_count": 58,
   "id": "d62c9b80",
   "metadata": {},
   "outputs": [
    {
     "data": {
      "text/html": [
       "<div>\n",
       "<style scoped>\n",
       "    .dataframe tbody tr th:only-of-type {\n",
       "        vertical-align: middle;\n",
       "    }\n",
       "\n",
       "    .dataframe tbody tr th {\n",
       "        vertical-align: top;\n",
       "    }\n",
       "\n",
       "    .dataframe thead th {\n",
       "        text-align: right;\n",
       "    }\n",
       "</style>\n",
       "<table border=\"1\" class=\"dataframe\">\n",
       "  <thead>\n",
       "    <tr style=\"text-align: right;\">\n",
       "      <th></th>\n",
       "      <th>확진일자</th>\n",
       "      <th>확진수</th>\n",
       "    </tr>\n",
       "  </thead>\n",
       "  <tbody>\n",
       "    <tr>\n",
       "      <th>0</th>\n",
       "      <td>2020-01-24</td>\n",
       "      <td>1.0</td>\n",
       "    </tr>\n",
       "    <tr>\n",
       "      <th>1</th>\n",
       "      <td>2020-01-25</td>\n",
       "      <td>NaN</td>\n",
       "    </tr>\n",
       "    <tr>\n",
       "      <th>2</th>\n",
       "      <td>2020-01-26</td>\n",
       "      <td>NaN</td>\n",
       "    </tr>\n",
       "    <tr>\n",
       "      <th>3</th>\n",
       "      <td>2020-01-27</td>\n",
       "      <td>NaN</td>\n",
       "    </tr>\n",
       "    <tr>\n",
       "      <th>4</th>\n",
       "      <td>2020-01-28</td>\n",
       "      <td>NaN</td>\n",
       "    </tr>\n",
       "  </tbody>\n",
       "</table>\n",
       "</div>"
      ],
      "text/plain": [
       "        확진일자  확진수\n",
       "0 2020-01-24  1.0\n",
       "1 2020-01-25  NaN\n",
       "2 2020-01-26  NaN\n",
       "3 2020-01-27  NaN\n",
       "4 2020-01-28  NaN"
      ]
     },
     "execution_count": 58,
     "metadata": {},
     "output_type": "execute_result"
    }
   ],
   "source": [
    "# merge\n",
    "all_day = df_days.merge(\n",
    "              df_daily_case,\n",
    "              left_on='확진일자',\n",
    "              right_on=df_daily_case.index,\n",
    "              how='left'\n",
    "             )\n",
    "all_day.head()"
   ]
  },
  {
   "cell_type": "code",
   "execution_count": 61,
   "id": "db78f6b8",
   "metadata": {},
   "outputs": [
    {
     "data": {
      "text/html": [
       "<div>\n",
       "<style scoped>\n",
       "    .dataframe tbody tr th:only-of-type {\n",
       "        vertical-align: middle;\n",
       "    }\n",
       "\n",
       "    .dataframe tbody tr th {\n",
       "        vertical-align: top;\n",
       "    }\n",
       "\n",
       "    .dataframe thead th {\n",
       "        text-align: right;\n",
       "    }\n",
       "</style>\n",
       "<table border=\"1\" class=\"dataframe\">\n",
       "  <thead>\n",
       "    <tr style=\"text-align: right;\">\n",
       "      <th></th>\n",
       "      <th>확진일자</th>\n",
       "      <th>확진수</th>\n",
       "      <th>누적확진</th>\n",
       "    </tr>\n",
       "  </thead>\n",
       "  <tbody>\n",
       "    <tr>\n",
       "      <th>0</th>\n",
       "      <td>2020-01-24</td>\n",
       "      <td>1.0</td>\n",
       "      <td>1.0</td>\n",
       "    </tr>\n",
       "    <tr>\n",
       "      <th>1</th>\n",
       "      <td>2020-01-25</td>\n",
       "      <td>NaN</td>\n",
       "      <td>1.0</td>\n",
       "    </tr>\n",
       "    <tr>\n",
       "      <th>2</th>\n",
       "      <td>2020-01-26</td>\n",
       "      <td>NaN</td>\n",
       "      <td>1.0</td>\n",
       "    </tr>\n",
       "    <tr>\n",
       "      <th>3</th>\n",
       "      <td>2020-01-27</td>\n",
       "      <td>NaN</td>\n",
       "      <td>1.0</td>\n",
       "    </tr>\n",
       "    <tr>\n",
       "      <th>4</th>\n",
       "      <td>2020-01-28</td>\n",
       "      <td>NaN</td>\n",
       "      <td>1.0</td>\n",
       "    </tr>\n",
       "    <tr>\n",
       "      <th>...</th>\n",
       "      <td>...</td>\n",
       "      <td>...</td>\n",
       "      <td>...</td>\n",
       "    </tr>\n",
       "    <tr>\n",
       "      <th>154</th>\n",
       "      <td>2020-06-26</td>\n",
       "      <td>17.0</td>\n",
       "      <td>1284.0</td>\n",
       "    </tr>\n",
       "    <tr>\n",
       "      <th>155</th>\n",
       "      <td>2020-06-27</td>\n",
       "      <td>14.0</td>\n",
       "      <td>1298.0</td>\n",
       "    </tr>\n",
       "    <tr>\n",
       "      <th>156</th>\n",
       "      <td>2020-06-28</td>\n",
       "      <td>7.0</td>\n",
       "      <td>1305.0</td>\n",
       "    </tr>\n",
       "    <tr>\n",
       "      <th>157</th>\n",
       "      <td>2020-06-29</td>\n",
       "      <td>8.0</td>\n",
       "      <td>1313.0</td>\n",
       "    </tr>\n",
       "    <tr>\n",
       "      <th>158</th>\n",
       "      <td>2020-06-30</td>\n",
       "      <td>8.0</td>\n",
       "      <td>1321.0</td>\n",
       "    </tr>\n",
       "  </tbody>\n",
       "</table>\n",
       "<p>159 rows × 3 columns</p>\n",
       "</div>"
      ],
      "text/plain": [
       "          확진일자   확진수    누적확진\n",
       "0   2020-01-24   1.0     1.0\n",
       "1   2020-01-25   NaN     1.0\n",
       "2   2020-01-26   NaN     1.0\n",
       "3   2020-01-27   NaN     1.0\n",
       "4   2020-01-28   NaN     1.0\n",
       "..         ...   ...     ...\n",
       "154 2020-06-26  17.0  1284.0\n",
       "155 2020-06-27  14.0  1298.0\n",
       "156 2020-06-28   7.0  1305.0\n",
       "157 2020-06-29   8.0  1313.0\n",
       "158 2020-06-30   8.0  1321.0\n",
       "\n",
       "[159 rows x 3 columns]"
      ]
     },
     "execution_count": 61,
     "metadata": {},
     "output_type": "execute_result"
    }
   ],
   "source": [
    "# 결측치 치환 및 값 누적\n",
    "all_day['누적확진'] = all_day['확진수'].fillna(0).cumsum()\n",
    "all_day"
   ]
  },
  {
   "cell_type": "code",
   "execution_count": 63,
   "id": "db537914",
   "metadata": {},
   "outputs": [
    {
     "data": {
      "text/html": [
       "<div>\n",
       "<style scoped>\n",
       "    .dataframe tbody tr th:only-of-type {\n",
       "        vertical-align: middle;\n",
       "    }\n",
       "\n",
       "    .dataframe tbody tr th {\n",
       "        vertical-align: top;\n",
       "    }\n",
       "\n",
       "    .dataframe thead th {\n",
       "        text-align: right;\n",
       "    }\n",
       "</style>\n",
       "<table border=\"1\" class=\"dataframe\">\n",
       "  <thead>\n",
       "    <tr style=\"text-align: right;\">\n",
       "      <th></th>\n",
       "      <th>확진일자</th>\n",
       "      <th>확진수</th>\n",
       "      <th>누적확진</th>\n",
       "      <th>일자</th>\n",
       "    </tr>\n",
       "  </thead>\n",
       "  <tbody>\n",
       "    <tr>\n",
       "      <th>0</th>\n",
       "      <td>2020-01-24</td>\n",
       "      <td>1.0</td>\n",
       "      <td>1.0</td>\n",
       "      <td>01-24</td>\n",
       "    </tr>\n",
       "    <tr>\n",
       "      <th>1</th>\n",
       "      <td>2020-01-25</td>\n",
       "      <td>NaN</td>\n",
       "      <td>1.0</td>\n",
       "      <td>01-25</td>\n",
       "    </tr>\n",
       "    <tr>\n",
       "      <th>2</th>\n",
       "      <td>2020-01-26</td>\n",
       "      <td>NaN</td>\n",
       "      <td>1.0</td>\n",
       "      <td>01-26</td>\n",
       "    </tr>\n",
       "    <tr>\n",
       "      <th>3</th>\n",
       "      <td>2020-01-27</td>\n",
       "      <td>NaN</td>\n",
       "      <td>1.0</td>\n",
       "      <td>01-27</td>\n",
       "    </tr>\n",
       "    <tr>\n",
       "      <th>4</th>\n",
       "      <td>2020-01-28</td>\n",
       "      <td>NaN</td>\n",
       "      <td>1.0</td>\n",
       "      <td>01-28</td>\n",
       "    </tr>\n",
       "  </tbody>\n",
       "</table>\n",
       "</div>"
      ],
      "text/plain": [
       "        확진일자  확진수  누적확진     일자\n",
       "0 2020-01-24  1.0   1.0  01-24\n",
       "1 2020-01-25  NaN   1.0  01-25\n",
       "2 2020-01-26  NaN   1.0  01-26\n",
       "3 2020-01-27  NaN   1.0  01-27\n",
       "4 2020-01-28  NaN   1.0  01-28"
      ]
     },
     "execution_count": 63,
     "metadata": {},
     "output_type": "execute_result"
    }
   ],
   "source": [
    "all_day['일자'] = all_day['확진일자'].astype(str).map(lambda x:x[-5:])\n",
    "all_day.head()"
   ]
  },
  {
   "cell_type": "code",
   "execution_count": 66,
   "id": "f2e81d4e",
   "metadata": {},
   "outputs": [
    {
     "data": {
      "text/html": [
       "<div>\n",
       "<style scoped>\n",
       "    .dataframe tbody tr th:only-of-type {\n",
       "        vertical-align: middle;\n",
       "    }\n",
       "\n",
       "    .dataframe tbody tr th {\n",
       "        vertical-align: top;\n",
       "    }\n",
       "\n",
       "    .dataframe thead th {\n",
       "        text-align: right;\n",
       "    }\n",
       "</style>\n",
       "<table border=\"1\" class=\"dataframe\">\n",
       "  <thead>\n",
       "    <tr style=\"text-align: right;\">\n",
       "      <th></th>\n",
       "      <th>확진수</th>\n",
       "      <th>누적확진</th>\n",
       "    </tr>\n",
       "    <tr>\n",
       "      <th>일자</th>\n",
       "      <th></th>\n",
       "      <th></th>\n",
       "    </tr>\n",
       "  </thead>\n",
       "  <tbody>\n",
       "    <tr>\n",
       "      <th>01-24</th>\n",
       "      <td>1.0</td>\n",
       "      <td>1.0</td>\n",
       "    </tr>\n",
       "    <tr>\n",
       "      <th>01-25</th>\n",
       "      <td>NaN</td>\n",
       "      <td>1.0</td>\n",
       "    </tr>\n",
       "    <tr>\n",
       "      <th>01-26</th>\n",
       "      <td>NaN</td>\n",
       "      <td>1.0</td>\n",
       "    </tr>\n",
       "    <tr>\n",
       "      <th>01-27</th>\n",
       "      <td>NaN</td>\n",
       "      <td>1.0</td>\n",
       "    </tr>\n",
       "    <tr>\n",
       "      <th>01-28</th>\n",
       "      <td>NaN</td>\n",
       "      <td>1.0</td>\n",
       "    </tr>\n",
       "    <tr>\n",
       "      <th>...</th>\n",
       "      <td>...</td>\n",
       "      <td>...</td>\n",
       "    </tr>\n",
       "    <tr>\n",
       "      <th>06-26</th>\n",
       "      <td>17.0</td>\n",
       "      <td>1284.0</td>\n",
       "    </tr>\n",
       "    <tr>\n",
       "      <th>06-27</th>\n",
       "      <td>14.0</td>\n",
       "      <td>1298.0</td>\n",
       "    </tr>\n",
       "    <tr>\n",
       "      <th>06-28</th>\n",
       "      <td>7.0</td>\n",
       "      <td>1305.0</td>\n",
       "    </tr>\n",
       "    <tr>\n",
       "      <th>06-29</th>\n",
       "      <td>8.0</td>\n",
       "      <td>1313.0</td>\n",
       "    </tr>\n",
       "    <tr>\n",
       "      <th>06-30</th>\n",
       "      <td>8.0</td>\n",
       "      <td>1321.0</td>\n",
       "    </tr>\n",
       "  </tbody>\n",
       "</table>\n",
       "<p>159 rows × 2 columns</p>\n",
       "</div>"
      ],
      "text/plain": [
       "        확진수    누적확진\n",
       "일자                 \n",
       "01-24   1.0     1.0\n",
       "01-25   NaN     1.0\n",
       "01-26   NaN     1.0\n",
       "01-27   NaN     1.0\n",
       "01-28   NaN     1.0\n",
       "...     ...     ...\n",
       "06-26  17.0  1284.0\n",
       "06-27  14.0  1298.0\n",
       "06-28   7.0  1305.0\n",
       "06-29   8.0  1313.0\n",
       "06-30   8.0  1321.0\n",
       "\n",
       "[159 rows x 2 columns]"
      ]
     },
     "execution_count": 66,
     "metadata": {},
     "output_type": "execute_result"
    }
   ],
   "source": [
    "cum_day = all_day[['일자', '확진수', '누적확진']]\n",
    "cum_day = cum_day.set_index('일자')\n",
    "cum_day                    "
   ]
  },
  {
   "cell_type": "code",
   "execution_count": 67,
   "id": "72a62168",
   "metadata": {},
   "outputs": [
    {
     "data": {
      "text/plain": [
       "<AxesSubplot:xlabel='일자'>"
      ]
     },
     "execution_count": 67,
     "metadata": {},
     "output_type": "execute_result"
    },
    {
     "data": {
      "image/png": "[encoded data removed]",
      "text/plain": [
       "<Figure size 1080x288 with 1 Axes>"
      ]
     },
     "metadata": {},
     "output_type": "display_data"
    }
   ],
   "source": [
    "cum_day.plot(figsize=(15, 4))"
   ]
  },
  {
   "cell_type": "code",
   "execution_count": 70,
   "id": "2cf3668d",
   "metadata": {},
   "outputs": [
    {
     "data": {
      "text/plain": [
       "<AxesSubplot:xlabel='일자'>"
      ]
     },
     "execution_count": 70,
     "metadata": {},
     "output_type": "execute_result"
    },
    {
     "data": {
      "image/png": "[encoded data removed]",
      "text/plain": [
       "<Figure size 1080x288 with 1 Axes>"
      ]
     },
     "metadata": {},
     "output_type": "display_data"
    }
   ],
   "source": [
    "# 시리즈로 그리기\n",
    "cum_day['누적확진'].plot(figsize=(15,4))\n",
    "cum_day['확진수'].plot()\n",
    "\n",
    "# 두 그래프의 차이가 커서 밑에 그래프는 잘 안보인다"
   ]
  },
  {
   "cell_type": "code",
   "execution_count": 74,
   "id": "4c69fd8e",
   "metadata": {},
   "outputs": [
    {
     "data": {
      "text/plain": [
       "<AxesSubplot:xlabel='일자'>"
      ]
     },
     "execution_count": 74,
     "metadata": {},
     "output_type": "execute_result"
    },
    {
     "data": {
      "image/png": "[encoded data removed]",
      "text/plain": [
       "<Figure size 1080x288 with 1 Axes>"
      ]
     },
     "metadata": {},
     "output_type": "display_data"
    }
   ],
   "source": [
    "# 로그스케일\n",
    "# log는 1이하에서 -무한에 수렴할 수 있어서 이를 방지하고자 +1\n",
    "np.log(cum_day['누적확진'] + 1).plot(figsize=(15,4))\n",
    "np.log(cum_day['확진수'] + 1).plot()"
   ]
  }
 ],
 "metadata": {
  "kernelspec": {
   "display_name": "Python 3",
   "language": "python",
   "name": "python3"
  },
  "language_info": {
   "codemirror_mode": {
    "name": "ipython",
    "version": 3
   },
   "file_extension": ".py",
   "mimetype": "text/x-python",
   "name": "python",
   "nbconvert_exporter": "python",
   "pygments_lexer": "ipython3",
   "version": "3.8.8"
  }
 },
 "nbformat": 4,
 "nbformat_minor": 5
}
