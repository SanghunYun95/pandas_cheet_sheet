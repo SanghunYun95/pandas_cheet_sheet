{
 "cells": [
  {
   "cell_type": "code",
   "execution_count": 1,
   "id": "137801d4",
   "metadata": {
    "ExecuteTime": {
     "end_time": "2021-08-27T11:21:19.695725Z",
     "start_time": "2021-08-27T11:21:18.173432Z"
    }
   },
   "outputs": [
    {
     "data": {
      "text/html": [
       "<div>\n",
       "<style scoped>\n",
       "    .dataframe tbody tr th:only-of-type {\n",
       "        vertical-align: middle;\n",
       "    }\n",
       "\n",
       "    .dataframe tbody tr th {\n",
       "        vertical-align: top;\n",
       "    }\n",
       "\n",
       "    .dataframe thead th {\n",
       "        text-align: right;\n",
       "    }\n",
       "</style>\n",
       "<table border=\"1\" class=\"dataframe\">\n",
       "  <thead>\n",
       "    <tr style=\"text-align: right;\">\n",
       "      <th></th>\n",
       "      <th>연번</th>\n",
       "      <th>환자</th>\n",
       "      <th>확진일</th>\n",
       "      <th>거주지</th>\n",
       "      <th>여행력</th>\n",
       "      <th>접촉력</th>\n",
       "      <th>조치사항</th>\n",
       "    </tr>\n",
       "  </thead>\n",
       "  <tbody>\n",
       "    <tr>\n",
       "      <th>0</th>\n",
       "      <td>1321</td>\n",
       "      <td>12830</td>\n",
       "      <td>6.30.</td>\n",
       "      <td>영등포구</td>\n",
       "      <td>-</td>\n",
       "      <td>영등포구 확진자 접촉</td>\n",
       "      <td>-</td>\n",
       "    </tr>\n",
       "    <tr>\n",
       "      <th>1</th>\n",
       "      <td>1320</td>\n",
       "      <td>12829</td>\n",
       "      <td>6.30.</td>\n",
       "      <td>관악구</td>\n",
       "      <td>-</td>\n",
       "      <td>확인 중</td>\n",
       "      <td>보라매병원</td>\n",
       "    </tr>\n",
       "    <tr>\n",
       "      <th>2</th>\n",
       "      <td>1319</td>\n",
       "      <td>12831</td>\n",
       "      <td>6.30.</td>\n",
       "      <td>영등포구</td>\n",
       "      <td>-</td>\n",
       "      <td>확인 중</td>\n",
       "      <td>중앙대학교병원</td>\n",
       "    </tr>\n",
       "    <tr>\n",
       "      <th>3</th>\n",
       "      <td>1318</td>\n",
       "      <td>12808</td>\n",
       "      <td>6.30.</td>\n",
       "      <td>관악구</td>\n",
       "      <td>-</td>\n",
       "      <td>강남구 역삼동 모임</td>\n",
       "      <td>보라매병원</td>\n",
       "    </tr>\n",
       "    <tr>\n",
       "      <th>4</th>\n",
       "      <td>1317</td>\n",
       "      <td>12809</td>\n",
       "      <td>6.30.</td>\n",
       "      <td>관악구</td>\n",
       "      <td>-</td>\n",
       "      <td>강남구 역삼동 모임</td>\n",
       "      <td>보라매병원</td>\n",
       "    </tr>\n",
       "    <tr>\n",
       "      <th>...</th>\n",
       "      <td>...</td>\n",
       "      <td>...</td>\n",
       "      <td>...</td>\n",
       "      <td>...</td>\n",
       "      <td>...</td>\n",
       "      <td>...</td>\n",
       "      <td>...</td>\n",
       "    </tr>\n",
       "    <tr>\n",
       "      <th>1316</th>\n",
       "      <td>5</td>\n",
       "      <td>9</td>\n",
       "      <td>1.31.</td>\n",
       "      <td>성북구</td>\n",
       "      <td>-</td>\n",
       "      <td>#5 접촉</td>\n",
       "      <td>서울의료원(퇴원)</td>\n",
       "    </tr>\n",
       "    <tr>\n",
       "      <th>1317</th>\n",
       "      <td>4</td>\n",
       "      <td>7</td>\n",
       "      <td>1.30.</td>\n",
       "      <td>마포구</td>\n",
       "      <td>중국 우한시</td>\n",
       "      <td>해외 접촉</td>\n",
       "      <td>서울의료원(퇴원)</td>\n",
       "    </tr>\n",
       "    <tr>\n",
       "      <th>1318</th>\n",
       "      <td>3</td>\n",
       "      <td>6</td>\n",
       "      <td>1.30.</td>\n",
       "      <td>종로구</td>\n",
       "      <td>-</td>\n",
       "      <td>#3 접촉</td>\n",
       "      <td>서울대학교병원(퇴원)</td>\n",
       "    </tr>\n",
       "    <tr>\n",
       "      <th>1319</th>\n",
       "      <td>2</td>\n",
       "      <td>5</td>\n",
       "      <td>1.30.</td>\n",
       "      <td>중랑구</td>\n",
       "      <td>중국 우한시</td>\n",
       "      <td>해외 접촉</td>\n",
       "      <td>서울의료원(퇴원)</td>\n",
       "    </tr>\n",
       "    <tr>\n",
       "      <th>1320</th>\n",
       "      <td>1</td>\n",
       "      <td>2</td>\n",
       "      <td>1.24.</td>\n",
       "      <td>강서구</td>\n",
       "      <td>중국 우한시</td>\n",
       "      <td>해외 접촉</td>\n",
       "      <td>국립중앙의료원(퇴원)</td>\n",
       "    </tr>\n",
       "  </tbody>\n",
       "</table>\n",
       "<p>1321 rows × 7 columns</p>\n",
       "</div>"
      ],
      "text/plain": [
       "        연번     환자    확진일   거주지     여행력          접촉력         조치사항\n",
       "0     1321  12830  6.30.  영등포구       -  영등포구 확진자 접촉            -\n",
       "1     1320  12829  6.30.   관악구       -         확인 중        보라매병원\n",
       "2     1319  12831  6.30.  영등포구       -         확인 중      중앙대학교병원\n",
       "3     1318  12808  6.30.   관악구       -   강남구 역삼동 모임        보라매병원\n",
       "4     1317  12809  6.30.   관악구       -   강남구 역삼동 모임        보라매병원\n",
       "...    ...    ...    ...   ...     ...          ...          ...\n",
       "1316     5      9  1.31.   성북구       -        #5 접촉    서울의료원(퇴원)\n",
       "1317     4      7  1.30.   마포구  중국 우한시        해외 접촉    서울의료원(퇴원)\n",
       "1318     3      6  1.30.   종로구       -        #3 접촉  서울대학교병원(퇴원)\n",
       "1319     2      5  1.30.   중랑구  중국 우한시        해외 접촉    서울의료원(퇴원)\n",
       "1320     1      2  1.24.   강서구  중국 우한시        해외 접촉  국립중앙의료원(퇴원)\n",
       "\n",
       "[1321 rows x 7 columns]"
      ]
     },
     "execution_count": 1,
     "metadata": {},
     "output_type": "execute_result"
    }
   ],
   "source": [
    "import pandas as pd\n",
    "import numpy as np\n",
    "\n",
    "file_name = './material/seoul-covid19_6_30_.csv'\n",
    "df = pd.read_csv(file_name)\n",
    "df.sort_values(by='연번', ascending=False)"
   ]
  },
  {
   "cell_type": "code",
   "execution_count": 2,
   "id": "db67946e",
   "metadata": {
    "ExecuteTime": {
     "end_time": "2021-08-27T11:21:20.898059Z",
     "start_time": "2021-08-27T11:21:19.698914Z"
    }
   },
   "outputs": [
    {
     "data": {
      "text/plain": [
       "<AxesSubplot:title={'center':'한글 제목'}>"
      ]
     },
     "execution_count": 2,
     "metadata": {},
     "output_type": "execute_result"
    },
    {
     "data": {
      "image/png": "[encoded data removed]",
      "text/plain": [
       "<Figure size 432x288 with 1 Axes>"
      ]
     },
     "metadata": {},
     "output_type": "display_data"
    }
   ],
   "source": [
    "#한글폰트 설정\n",
    "import matplotlib.pyplot as plt\n",
    "plt.rc('font', family='Malgun Gothic')\n",
    "plt.rc('axes', unicode_minus=False)\n",
    "\n",
    "# retina 디스플레이 지원환경에서 폰트 선명하게 하기\n",
    "#from IPython.display import set_matplotlib_formats\n",
    "#set_matplotlib_formats('retina')\n",
    "\n",
    "plt.style.use('fivethirtyeight')\n",
    "\n",
    "pd.Series([1, 3, 5, -7, 9]).plot.bar(title='한글 제목')"
   ]
  },
  {
   "cell_type": "code",
   "execution_count": 3,
   "id": "ad3c11dd",
   "metadata": {
    "ExecuteTime": {
     "end_time": "2021-08-27T11:21:21.008704Z",
     "start_time": "2021-08-27T11:21:20.904922Z"
    }
   },
   "outputs": [
    {
     "name": "stderr",
     "output_type": "stream",
     "text": [
      "<ipython-input-3-e8e108ba8cc7>:2: FutureWarning: The default value of regex will change from True to False in a future version. In addition, single character regular expressions will*not* be treated as literal strings when regex=True.\n",
      "  df['확진일자'] = pd.to_datetime('2020-' + df['확진일'].str.replace('.','-'))\n"
     ]
    },
    {
     "data": {
      "text/html": [
       "<div>\n",
       "<style scoped>\n",
       "    .dataframe tbody tr th:only-of-type {\n",
       "        vertical-align: middle;\n",
       "    }\n",
       "\n",
       "    .dataframe tbody tr th {\n",
       "        vertical-align: top;\n",
       "    }\n",
       "\n",
       "    .dataframe thead th {\n",
       "        text-align: right;\n",
       "    }\n",
       "</style>\n",
       "<table border=\"1\" class=\"dataframe\">\n",
       "  <thead>\n",
       "    <tr style=\"text-align: right;\">\n",
       "      <th></th>\n",
       "      <th>확진일자</th>\n",
       "      <th>확진일</th>\n",
       "    </tr>\n",
       "  </thead>\n",
       "  <tbody>\n",
       "    <tr>\n",
       "      <th>0</th>\n",
       "      <td>2020-06-30</td>\n",
       "      <td>6.30.</td>\n",
       "    </tr>\n",
       "    <tr>\n",
       "      <th>1</th>\n",
       "      <td>2020-06-30</td>\n",
       "      <td>6.30.</td>\n",
       "    </tr>\n",
       "    <tr>\n",
       "      <th>2</th>\n",
       "      <td>2020-06-30</td>\n",
       "      <td>6.30.</td>\n",
       "    </tr>\n",
       "    <tr>\n",
       "      <th>3</th>\n",
       "      <td>2020-06-30</td>\n",
       "      <td>6.30.</td>\n",
       "    </tr>\n",
       "    <tr>\n",
       "      <th>4</th>\n",
       "      <td>2020-06-30</td>\n",
       "      <td>6.30.</td>\n",
       "    </tr>\n",
       "  </tbody>\n",
       "</table>\n",
       "</div>"
      ],
      "text/plain": [
       "        확진일자    확진일\n",
       "0 2020-06-30  6.30.\n",
       "1 2020-06-30  6.30.\n",
       "2 2020-06-30  6.30.\n",
       "3 2020-06-30  6.30.\n",
       "4 2020-06-30  6.30."
      ]
     },
     "execution_count": 3,
     "metadata": {},
     "output_type": "execute_result"
    }
   ],
   "source": [
    "# 확진일 6.30. --> 2020-06-30\n",
    "df['확진일자'] = pd.to_datetime('2020-' + df['확진일'].str.replace('.','-'))\n",
    "df[['확진일자', '확진일']].head()"
   ]
  },
  {
   "cell_type": "code",
   "execution_count": 4,
   "id": "8a471535",
   "metadata": {
    "ExecuteTime": {
     "end_time": "2021-08-27T11:21:21.040477Z",
     "start_time": "2021-08-27T11:21:21.012552Z"
    }
   },
   "outputs": [
    {
     "data": {
      "text/html": [
       "<div>\n",
       "<style scoped>\n",
       "    .dataframe tbody tr th:only-of-type {\n",
       "        vertical-align: middle;\n",
       "    }\n",
       "\n",
       "    .dataframe tbody tr th {\n",
       "        vertical-align: top;\n",
       "    }\n",
       "\n",
       "    .dataframe thead th {\n",
       "        text-align: right;\n",
       "    }\n",
       "</style>\n",
       "<table border=\"1\" class=\"dataframe\">\n",
       "  <thead>\n",
       "    <tr style=\"text-align: right;\">\n",
       "      <th></th>\n",
       "      <th>확진일자</th>\n",
       "      <th>확진일</th>\n",
       "      <th>월</th>\n",
       "    </tr>\n",
       "  </thead>\n",
       "  <tbody>\n",
       "    <tr>\n",
       "      <th>0</th>\n",
       "      <td>2020-06-30</td>\n",
       "      <td>6.30.</td>\n",
       "      <td>6</td>\n",
       "    </tr>\n",
       "    <tr>\n",
       "      <th>1</th>\n",
       "      <td>2020-06-30</td>\n",
       "      <td>6.30.</td>\n",
       "      <td>6</td>\n",
       "    </tr>\n",
       "    <tr>\n",
       "      <th>2</th>\n",
       "      <td>2020-06-30</td>\n",
       "      <td>6.30.</td>\n",
       "      <td>6</td>\n",
       "    </tr>\n",
       "    <tr>\n",
       "      <th>3</th>\n",
       "      <td>2020-06-30</td>\n",
       "      <td>6.30.</td>\n",
       "      <td>6</td>\n",
       "    </tr>\n",
       "    <tr>\n",
       "      <th>4</th>\n",
       "      <td>2020-06-30</td>\n",
       "      <td>6.30.</td>\n",
       "      <td>6</td>\n",
       "    </tr>\n",
       "  </tbody>\n",
       "</table>\n",
       "</div>"
      ],
      "text/plain": [
       "        확진일자    확진일  월\n",
       "0 2020-06-30  6.30.  6\n",
       "1 2020-06-30  6.30.  6\n",
       "2 2020-06-30  6.30.  6\n",
       "3 2020-06-30  6.30.  6\n",
       "4 2020-06-30  6.30.  6"
      ]
     },
     "execution_count": 4,
     "metadata": {},
     "output_type": "execute_result"
    }
   ],
   "source": [
    "# 월 추출\n",
    "df['월'] = df['확진일자'].dt.month\n",
    "df[['확진일자', '확진일', '월']].head()"
   ]
  },
  {
   "cell_type": "code",
   "execution_count": 5,
   "id": "f9eddc3a",
   "metadata": {
    "ExecuteTime": {
     "end_time": "2021-08-27T11:21:21.088500Z",
     "start_time": "2021-08-27T11:21:21.044466Z"
    }
   },
   "outputs": [
    {
     "name": "stderr",
     "output_type": "stream",
     "text": [
      "<ipython-input-5-3ef32a01d454>:2: FutureWarning: Series.dt.weekofyear and Series.dt.week have been deprecated.  Please use Series.dt.isocalendar().week instead.\n",
      "  df['주'] = df['확진일자'].dt.week\n"
     ]
    },
    {
     "data": {
      "text/html": [
       "<div>\n",
       "<style scoped>\n",
       "    .dataframe tbody tr th:only-of-type {\n",
       "        vertical-align: middle;\n",
       "    }\n",
       "\n",
       "    .dataframe tbody tr th {\n",
       "        vertical-align: top;\n",
       "    }\n",
       "\n",
       "    .dataframe thead th {\n",
       "        text-align: right;\n",
       "    }\n",
       "</style>\n",
       "<table border=\"1\" class=\"dataframe\">\n",
       "  <thead>\n",
       "    <tr style=\"text-align: right;\">\n",
       "      <th></th>\n",
       "      <th>확진일자</th>\n",
       "      <th>확진일</th>\n",
       "      <th>월</th>\n",
       "      <th>주</th>\n",
       "    </tr>\n",
       "  </thead>\n",
       "  <tbody>\n",
       "    <tr>\n",
       "      <th>0</th>\n",
       "      <td>2020-06-30</td>\n",
       "      <td>6.30.</td>\n",
       "      <td>6</td>\n",
       "      <td>27</td>\n",
       "    </tr>\n",
       "    <tr>\n",
       "      <th>1</th>\n",
       "      <td>2020-06-30</td>\n",
       "      <td>6.30.</td>\n",
       "      <td>6</td>\n",
       "      <td>27</td>\n",
       "    </tr>\n",
       "    <tr>\n",
       "      <th>2</th>\n",
       "      <td>2020-06-30</td>\n",
       "      <td>6.30.</td>\n",
       "      <td>6</td>\n",
       "      <td>27</td>\n",
       "    </tr>\n",
       "    <tr>\n",
       "      <th>3</th>\n",
       "      <td>2020-06-30</td>\n",
       "      <td>6.30.</td>\n",
       "      <td>6</td>\n",
       "      <td>27</td>\n",
       "    </tr>\n",
       "    <tr>\n",
       "      <th>4</th>\n",
       "      <td>2020-06-30</td>\n",
       "      <td>6.30.</td>\n",
       "      <td>6</td>\n",
       "      <td>27</td>\n",
       "    </tr>\n",
       "  </tbody>\n",
       "</table>\n",
       "</div>"
      ],
      "text/plain": [
       "        확진일자    확진일  월   주\n",
       "0 2020-06-30  6.30.  6  27\n",
       "1 2020-06-30  6.30.  6  27\n",
       "2 2020-06-30  6.30.  6  27\n",
       "3 2020-06-30  6.30.  6  27\n",
       "4 2020-06-30  6.30.  6  27"
      ]
     },
     "execution_count": 5,
     "metadata": {},
     "output_type": "execute_result"
    }
   ],
   "source": [
    "# 해당 연도의 몇번째 주\n",
    "df['주'] = df['확진일자'].dt.week\n",
    "df[['확진일자', '확진일', '월', '주']].head()"
   ]
  },
  {
   "cell_type": "code",
   "execution_count": 6,
   "id": "a94d5436",
   "metadata": {
    "ExecuteTime": {
     "end_time": "2021-08-27T11:21:21.429311Z",
     "start_time": "2021-08-27T11:21:21.092336Z"
    }
   },
   "outputs": [
    {
     "data": {
      "text/plain": [
       "<matplotlib.lines.Line2D at 0x2fec81ad970>"
      ]
     },
     "execution_count": 6,
     "metadata": {},
     "output_type": "execute_result"
    },
    {
     "data": {
      "image/png": "[encoded data removed]",
      "text/plain": [
       "<Figure size 1080x288 with 1 Axes>"
      ]
     },
     "metadata": {},
     "output_type": "display_data"
    }
   ],
   "source": [
    "# 확진일자 선그래프\n",
    "df['확진일자'].value_counts().sort_index().plot(figsize=(15, 4))\n",
    "plt.axhline(30, color='red', linestyle=':')"
   ]
  },
  {
   "cell_type": "code",
   "execution_count": 7,
   "id": "8fb7a9cf",
   "metadata": {
    "ExecuteTime": {
     "end_time": "2021-08-27T11:21:21.725637Z",
     "start_time": "2021-08-27T11:21:21.432799Z"
    }
   },
   "outputs": [
    {
     "data": {
      "image/png": "[encoded data removed]",
      "text/plain": [
       "<Figure size 1080x288 with 1 Axes>"
      ]
     },
     "metadata": {},
     "output_type": "display_data"
    }
   ],
   "source": [
    "df['월일'] = df['확진일자'].astype(str).map(lambda x : x[-5:])\n",
    "# index가 월-일 날짜이기 때문에 날짜 순으로 그리기 위해 sort_index()\n",
    "day_count = df['월일'].value_counts().sort_index()\n",
    "g = day_count.plot(figsize=(15,4))\n",
    "\n",
    "for i in range(len(day_count)):\n",
    "    case_count = day_count.iloc[i]\n",
    "    \n",
    "    if case_count > 25:\n",
    "        g.text(x=i-0.3, y=case_count, s=case_count)"
   ]
  },
  {
   "cell_type": "code",
   "execution_count": 8,
   "id": "82f3a5b9",
   "metadata": {
    "ExecuteTime": {
     "end_time": "2021-08-27T11:21:21.756554Z",
     "start_time": "2021-08-27T11:21:21.730594Z"
    }
   },
   "outputs": [
    {
     "data": {
      "text/plain": [
       "count    130.000000\n",
       "mean      10.161538\n",
       "std        7.917015\n",
       "min        1.000000\n",
       "25%        4.000000\n",
       "50%        8.000000\n",
       "75%       15.000000\n",
       "max       46.000000\n",
       "Name: 월일, dtype: float64"
      ]
     },
     "execution_count": 8,
     "metadata": {},
     "output_type": "execute_result"
    }
   ],
   "source": [
    "day_count.describe()"
   ]
  },
  {
   "cell_type": "code",
   "execution_count": 9,
   "id": "1d21166f",
   "metadata": {
    "ExecuteTime": {
     "end_time": "2021-08-27T11:21:21.772556Z",
     "start_time": "2021-08-27T11:21:21.759512Z"
    }
   },
   "outputs": [
    {
     "data": {
      "text/plain": [
       "03-10    46\n",
       "Name: 월일, dtype: int64"
      ]
     },
     "execution_count": 9,
     "metadata": {},
     "output_type": "execute_result"
    }
   ],
   "source": [
    "# 확진자가 가장 많은 날\n",
    "day_count[day_count == day_count.max()]"
   ]
  },
  {
   "cell_type": "code",
   "execution_count": 10,
   "id": "3cfa5dd4",
   "metadata": {
    "ExecuteTime": {
     "end_time": "2021-08-27T11:21:21.803617Z",
     "start_time": "2021-08-27T11:21:21.775503Z"
    }
   },
   "outputs": [
    {
     "data": {
      "text/html": [
       "<div>\n",
       "<style scoped>\n",
       "    .dataframe tbody tr th:only-of-type {\n",
       "        vertical-align: middle;\n",
       "    }\n",
       "\n",
       "    .dataframe tbody tr th {\n",
       "        vertical-align: top;\n",
       "    }\n",
       "\n",
       "    .dataframe thead th {\n",
       "        text-align: right;\n",
       "    }\n",
       "</style>\n",
       "<table border=\"1\" class=\"dataframe\">\n",
       "  <thead>\n",
       "    <tr style=\"text-align: right;\">\n",
       "      <th></th>\n",
       "      <th>연번</th>\n",
       "      <th>환자</th>\n",
       "      <th>확진일</th>\n",
       "      <th>거주지</th>\n",
       "      <th>여행력</th>\n",
       "      <th>접촉력</th>\n",
       "      <th>조치사항</th>\n",
       "      <th>확진일자</th>\n",
       "      <th>월</th>\n",
       "      <th>주</th>\n",
       "      <th>월일</th>\n",
       "    </tr>\n",
       "  </thead>\n",
       "  <tbody>\n",
       "    <tr>\n",
       "      <th>1119</th>\n",
       "      <td>202</td>\n",
       "      <td>7567</td>\n",
       "      <td>3.10.</td>\n",
       "      <td>노원구</td>\n",
       "      <td>-</td>\n",
       "      <td>콜센터직원 접촉</td>\n",
       "      <td>서울의료원(퇴원)</td>\n",
       "      <td>2020-03-10</td>\n",
       "      <td>3</td>\n",
       "      <td>11</td>\n",
       "      <td>03-10</td>\n",
       "    </tr>\n",
       "    <tr>\n",
       "      <th>1120</th>\n",
       "      <td>201</td>\n",
       "      <td>7711</td>\n",
       "      <td>3.10.</td>\n",
       "      <td>노원구</td>\n",
       "      <td>-</td>\n",
       "      <td>콜센터직원 접촉</td>\n",
       "      <td>서울의료원(퇴원)</td>\n",
       "      <td>2020-03-10</td>\n",
       "      <td>3</td>\n",
       "      <td>11</td>\n",
       "      <td>03-10</td>\n",
       "    </tr>\n",
       "    <tr>\n",
       "      <th>1121</th>\n",
       "      <td>200</td>\n",
       "      <td>7555</td>\n",
       "      <td>3.10.</td>\n",
       "      <td>구로구</td>\n",
       "      <td>-</td>\n",
       "      <td>구로구 콜센터 관련</td>\n",
       "      <td>서남병원(퇴원)</td>\n",
       "      <td>2020-03-10</td>\n",
       "      <td>3</td>\n",
       "      <td>11</td>\n",
       "      <td>03-10</td>\n",
       "    </tr>\n",
       "    <tr>\n",
       "      <th>1122</th>\n",
       "      <td>199</td>\n",
       "      <td>7725</td>\n",
       "      <td>3.10.</td>\n",
       "      <td>양천구</td>\n",
       "      <td>-</td>\n",
       "      <td>구로구 콜센터 관련</td>\n",
       "      <td>서남병원(퇴원)</td>\n",
       "      <td>2020-03-10</td>\n",
       "      <td>3</td>\n",
       "      <td>11</td>\n",
       "      <td>03-10</td>\n",
       "    </tr>\n",
       "    <tr>\n",
       "      <th>1123</th>\n",
       "      <td>198</td>\n",
       "      <td>7539</td>\n",
       "      <td>3.10.</td>\n",
       "      <td>양천구</td>\n",
       "      <td>-</td>\n",
       "      <td>콜센터직원 접촉</td>\n",
       "      <td>서남병원(퇴원)</td>\n",
       "      <td>2020-03-10</td>\n",
       "      <td>3</td>\n",
       "      <td>11</td>\n",
       "      <td>03-10</td>\n",
       "    </tr>\n",
       "  </tbody>\n",
       "</table>\n",
       "</div>"
      ],
      "text/plain": [
       "       연번    환자    확진일  거주지 여행력         접촉력       조치사항       확진일자  월   주  \\\n",
       "1119  202  7567  3.10.  노원구   -    콜센터직원 접촉  서울의료원(퇴원) 2020-03-10  3  11   \n",
       "1120  201  7711  3.10.  노원구   -    콜센터직원 접촉  서울의료원(퇴원) 2020-03-10  3  11   \n",
       "1121  200  7555  3.10.  구로구   -  구로구 콜센터 관련   서남병원(퇴원) 2020-03-10  3  11   \n",
       "1122  199  7725  3.10.  양천구   -  구로구 콜센터 관련   서남병원(퇴원) 2020-03-10  3  11   \n",
       "1123  198  7539  3.10.  양천구   -    콜센터직원 접촉   서남병원(퇴원) 2020-03-10  3  11   \n",
       "\n",
       "         월일  \n",
       "1119  03-10  \n",
       "1120  03-10  \n",
       "1121  03-10  \n",
       "1122  03-10  \n",
       "1123  03-10  "
      ]
     },
     "execution_count": 10,
     "metadata": {},
     "output_type": "execute_result"
    }
   ],
   "source": [
    "df[df['월일'] == '03-10'].head()"
   ]
  },
  {
   "cell_type": "code",
   "execution_count": 11,
   "id": "e7843105",
   "metadata": {
    "ExecuteTime": {
     "end_time": "2021-08-27T11:21:25.892643Z",
     "start_time": "2021-08-27T11:21:21.806423Z"
    }
   },
   "outputs": [
    {
     "data": {
      "text/plain": [
       "<AxesSubplot:>"
      ]
     },
     "execution_count": 11,
     "metadata": {},
     "output_type": "execute_result"
    },
    {
     "data": {
      "image/png": "[encoded data removed]",
      "text/plain": [
       "<Figure size 2160x288 with 1 Axes>"
      ]
     },
     "metadata": {},
     "output_type": "display_data"
    }
   ],
   "source": [
    "# 막대 그래프 그리기\n",
    "day_count.plot.bar(figsize=(30,4), rot=30)\n",
    "\n",
    "\n",
    "# 값이 잘 보이지 않음"
   ]
  },
  {
   "cell_type": "code",
   "execution_count": 12,
   "id": "6b28bdcf",
   "metadata": {
    "ExecuteTime": {
     "end_time": "2021-08-27T11:21:26.958100Z",
     "start_time": "2021-08-27T11:21:25.895636Z"
    }
   },
   "outputs": [
    {
     "data": {
      "image/png": "[encoded data removed]",
      "text/plain": [
       "<Figure size 1080x288 with 1 Axes>"
      ]
     },
     "metadata": {},
     "output_type": "display_data"
    }
   ],
   "source": [
    "# 최근 데이터만 슬라이싱으로 나눠 그리기\n",
    "g = day_count[-50:].plot.bar(figsize=(15, 4), rot=30)\n",
    "g.axhline(day_count.median(), linestyle=':', color='red')\n",
    "\n",
    "for i in range(50):\n",
    "    case_count = day_count[-50:].iloc[i]\n",
    "    \n",
    "    if case_count > 15:\n",
    "        g.text(x=i-0.3, y=case_count, s=case_count)"
   ]
  },
  {
   "cell_type": "code",
   "execution_count": 13,
   "id": "48243101",
   "metadata": {
    "ExecuteTime": {
     "end_time": "2021-08-27T11:21:27.191141Z",
     "start_time": "2021-08-27T11:21:26.961306Z"
    }
   },
   "outputs": [
    {
     "data": {
      "image/png": "[encoded data removed]",
      "text/plain": [
       "<Figure size 432x288 with 1 Axes>"
      ]
     },
     "metadata": {},
     "output_type": "display_data"
    }
   ],
   "source": [
    "# 월 별 확진자 수 그리기\n",
    "month_case = df['월'].value_counts().sort_index()\n",
    "g = month_case.plot.bar(rot=0)\n",
    "\n",
    "for i in range(len(month_case)):\n",
    "    g.text(x=i-0.2, y=month_case.iloc[i]+10, s=month_case.iloc[i])"
   ]
  },
  {
   "cell_type": "code",
   "execution_count": 14,
   "id": "e86874ab",
   "metadata": {
    "ExecuteTime": {
     "end_time": "2021-08-27T11:21:27.206753Z",
     "start_time": "2021-08-27T11:21:27.193789Z"
    }
   },
   "outputs": [],
   "source": [
    "# -1 인덱스: 가장 마지막 인덱스 --> 최초 발생일, 7번째 컬럼 날짜\n",
    "first_day = df.iloc[-1, 7]\n",
    "\n",
    "# df.iloc[0]['확진일자'] 보다 아래와 같은 코드가 더 빠르다\n",
    "last_day = df.iloc[0, 7]"
   ]
  },
  {
   "cell_type": "code",
   "execution_count": 15,
   "id": "e086b2e5",
   "metadata": {
    "ExecuteTime": {
     "end_time": "2021-08-27T11:21:27.222744Z",
     "start_time": "2021-08-27T11:21:27.208748Z"
    }
   },
   "outputs": [
    {
     "data": {
      "text/plain": [
       "DatetimeIndex(['2020-01-24', '2020-01-25', '2020-01-26', '2020-01-27',\n",
       "               '2020-01-28', '2020-01-29', '2020-01-30', '2020-01-31',\n",
       "               '2020-02-01', '2020-02-02',\n",
       "               ...\n",
       "               '2020-06-21', '2020-06-22', '2020-06-23', '2020-06-24',\n",
       "               '2020-06-25', '2020-06-26', '2020-06-27', '2020-06-28',\n",
       "               '2020-06-29', '2020-06-30'],\n",
       "              dtype='datetime64[ns]', length=159, freq='D')"
      ]
     },
     "execution_count": 15,
     "metadata": {},
     "output_type": "execute_result"
    }
   ],
   "source": [
    "days = pd.date_range(first_day, last_day)\n",
    "days"
   ]
  },
  {
   "cell_type": "code",
   "execution_count": 16,
   "id": "81b8d794",
   "metadata": {
    "ExecuteTime": {
     "end_time": "2021-08-27T11:21:27.253708Z",
     "start_time": "2021-08-27T11:21:27.224746Z"
    }
   },
   "outputs": [
    {
     "data": {
      "text/html": [
       "<div>\n",
       "<style scoped>\n",
       "    .dataframe tbody tr th:only-of-type {\n",
       "        vertical-align: middle;\n",
       "    }\n",
       "\n",
       "    .dataframe tbody tr th {\n",
       "        vertical-align: top;\n",
       "    }\n",
       "\n",
       "    .dataframe thead th {\n",
       "        text-align: right;\n",
       "    }\n",
       "</style>\n",
       "<table border=\"1\" class=\"dataframe\">\n",
       "  <thead>\n",
       "    <tr style=\"text-align: right;\">\n",
       "      <th></th>\n",
       "      <th>확진일자</th>\n",
       "    </tr>\n",
       "  </thead>\n",
       "  <tbody>\n",
       "    <tr>\n",
       "      <th>0</th>\n",
       "      <td>2020-01-24</td>\n",
       "    </tr>\n",
       "    <tr>\n",
       "      <th>1</th>\n",
       "      <td>2020-01-25</td>\n",
       "    </tr>\n",
       "    <tr>\n",
       "      <th>2</th>\n",
       "      <td>2020-01-26</td>\n",
       "    </tr>\n",
       "    <tr>\n",
       "      <th>3</th>\n",
       "      <td>2020-01-27</td>\n",
       "    </tr>\n",
       "    <tr>\n",
       "      <th>4</th>\n",
       "      <td>2020-01-28</td>\n",
       "    </tr>\n",
       "  </tbody>\n",
       "</table>\n",
       "</div>"
      ],
      "text/plain": [
       "        확진일자\n",
       "0 2020-01-24\n",
       "1 2020-01-25\n",
       "2 2020-01-26\n",
       "3 2020-01-27\n",
       "4 2020-01-28"
      ]
     },
     "execution_count": 16,
     "metadata": {},
     "output_type": "execute_result"
    }
   ],
   "source": [
    "# Series와 DataFrame을 합치기 위해서 DataFrame으로 변환\n",
    "# 이런 방법도 있다 days.to_frame()\n",
    "df_days = pd.DataFrame({'확진일자': days})\n",
    "df_days.head()"
   ]
  },
  {
   "cell_type": "code",
   "execution_count": 17,
   "id": "431fe4ce",
   "metadata": {
    "ExecuteTime": {
     "end_time": "2021-08-27T11:21:27.268622Z",
     "start_time": "2021-08-27T11:21:27.256621Z"
    }
   },
   "outputs": [
    {
     "data": {
      "text/plain": [
       "2020-03-10    46\n",
       "2020-06-12    30\n",
       "2020-06-06    29\n",
       "2020-06-05    27\n",
       "2020-03-09    26\n",
       "Name: 확진일자, dtype: int64"
      ]
     },
     "execution_count": 17,
     "metadata": {},
     "output_type": "execute_result"
    }
   ],
   "source": [
    "# 확진일자별 빈도수\n",
    "daily_case = df['확진일자'].value_counts()\n",
    "daily_case.head()"
   ]
  },
  {
   "cell_type": "code",
   "execution_count": 18,
   "id": "cee31440",
   "metadata": {
    "ExecuteTime": {
     "end_time": "2021-08-27T11:21:27.284545Z",
     "start_time": "2021-08-27T11:21:27.271582Z"
    }
   },
   "outputs": [
    {
     "data": {
      "text/plain": [
       "2020-03-10    46\n",
       "2020-06-12    30\n",
       "2020-06-06    29\n",
       "2020-06-05    27\n",
       "2020-03-09    26\n",
       "Name: 확진일자, dtype: int64"
      ]
     },
     "execution_count": 18,
     "metadata": {},
     "output_type": "execute_result"
    }
   ],
   "source": [
    "#df_daily_case = daily_case.to_frame()\n",
    "df_daily_case = daily_case\n",
    "df_daily_case.head()"
   ]
  },
  {
   "cell_type": "code",
   "execution_count": 19,
   "id": "1e78499c",
   "metadata": {
    "ExecuteTime": {
     "end_time": "2021-08-27T11:21:27.300537Z",
     "start_time": "2021-08-27T11:21:27.287538Z"
    }
   },
   "outputs": [
    {
     "data": {
      "text/plain": [
       "2020-03-10    46\n",
       "2020-06-12    30\n",
       "2020-06-06    29\n",
       "2020-06-05    27\n",
       "2020-03-09    26\n",
       "              ..\n",
       "2020-04-15     1\n",
       "2020-02-07     1\n",
       "2020-02-06     1\n",
       "2020-05-17     1\n",
       "2020-04-24     1\n",
       "Name: 확진일자, Length: 130, dtype: int64"
      ]
     },
     "execution_count": 19,
     "metadata": {},
     "output_type": "execute_result"
    }
   ],
   "source": [
    "df_daily_case.columns = ['확진수']\n",
    "df_daily_case"
   ]
  },
  {
   "cell_type": "code",
   "execution_count": 20,
   "id": "d62c9b80",
   "metadata": {
    "ExecuteTime": {
     "end_time": "2021-08-27T11:21:27.331421Z",
     "start_time": "2021-08-27T11:21:27.303497Z"
    }
   },
   "outputs": [
    {
     "data": {
      "text/html": [
       "<div>\n",
       "<style scoped>\n",
       "    .dataframe tbody tr th:only-of-type {\n",
       "        vertical-align: middle;\n",
       "    }\n",
       "\n",
       "    .dataframe tbody tr th {\n",
       "        vertical-align: top;\n",
       "    }\n",
       "\n",
       "    .dataframe thead th {\n",
       "        text-align: right;\n",
       "    }\n",
       "</style>\n",
       "<table border=\"1\" class=\"dataframe\">\n",
       "  <thead>\n",
       "    <tr style=\"text-align: right;\">\n",
       "      <th></th>\n",
       "      <th>확진일자</th>\n",
       "      <th>확진일자_x</th>\n",
       "      <th>확진일자_y</th>\n",
       "    </tr>\n",
       "  </thead>\n",
       "  <tbody>\n",
       "    <tr>\n",
       "      <th>0</th>\n",
       "      <td>2020-01-24</td>\n",
       "      <td>2020-01-24</td>\n",
       "      <td>1.0</td>\n",
       "    </tr>\n",
       "    <tr>\n",
       "      <th>1</th>\n",
       "      <td>2020-01-25</td>\n",
       "      <td>2020-01-25</td>\n",
       "      <td>NaN</td>\n",
       "    </tr>\n",
       "    <tr>\n",
       "      <th>2</th>\n",
       "      <td>2020-01-26</td>\n",
       "      <td>2020-01-26</td>\n",
       "      <td>NaN</td>\n",
       "    </tr>\n",
       "    <tr>\n",
       "      <th>3</th>\n",
       "      <td>2020-01-27</td>\n",
       "      <td>2020-01-27</td>\n",
       "      <td>NaN</td>\n",
       "    </tr>\n",
       "    <tr>\n",
       "      <th>4</th>\n",
       "      <td>2020-01-28</td>\n",
       "      <td>2020-01-28</td>\n",
       "      <td>NaN</td>\n",
       "    </tr>\n",
       "  </tbody>\n",
       "</table>\n",
       "</div>"
      ],
      "text/plain": [
       "        확진일자     확진일자_x  확진일자_y\n",
       "0 2020-01-24 2020-01-24     1.0\n",
       "1 2020-01-25 2020-01-25     NaN\n",
       "2 2020-01-26 2020-01-26     NaN\n",
       "3 2020-01-27 2020-01-27     NaN\n",
       "4 2020-01-28 2020-01-28     NaN"
      ]
     },
     "execution_count": 20,
     "metadata": {},
     "output_type": "execute_result"
    }
   ],
   "source": [
    "# merge\n",
    "all_day = df_days.merge(\n",
    "              df_daily_case,\n",
    "              left_on='확진일자',\n",
    "              right_on=df_daily_case.index,\n",
    "              how='left'\n",
    "             )\n",
    "all_day.head()"
   ]
  },
  {
   "cell_type": "code",
   "execution_count": 33,
   "id": "db78f6b8",
   "metadata": {
    "ExecuteTime": {
     "end_time": "2021-08-27T11:26:42.777072Z",
     "start_time": "2021-08-27T11:26:42.745949Z"
    }
   },
   "outputs": [
    {
     "data": {
      "text/html": [
       "<div>\n",
       "<style scoped>\n",
       "    .dataframe tbody tr th:only-of-type {\n",
       "        vertical-align: middle;\n",
       "    }\n",
       "\n",
       "    .dataframe tbody tr th {\n",
       "        vertical-align: top;\n",
       "    }\n",
       "\n",
       "    .dataframe thead th {\n",
       "        text-align: right;\n",
       "    }\n",
       "</style>\n",
       "<table border=\"1\" class=\"dataframe\">\n",
       "  <thead>\n",
       "    <tr style=\"text-align: right;\">\n",
       "      <th></th>\n",
       "      <th>확진일자</th>\n",
       "      <th>확진일자_x</th>\n",
       "      <th>확진일자_y</th>\n",
       "      <th>확진월</th>\n",
       "      <th>확진요일</th>\n",
       "    </tr>\n",
       "  </thead>\n",
       "  <tbody>\n",
       "    <tr>\n",
       "      <th>0</th>\n",
       "      <td>2020-01-24</td>\n",
       "      <td>2020-01-24</td>\n",
       "      <td>1.0</td>\n",
       "      <td>1</td>\n",
       "      <td>4</td>\n",
       "    </tr>\n",
       "    <tr>\n",
       "      <th>1</th>\n",
       "      <td>2020-01-25</td>\n",
       "      <td>2020-01-25</td>\n",
       "      <td>NaN</td>\n",
       "      <td>1</td>\n",
       "      <td>5</td>\n",
       "    </tr>\n",
       "    <tr>\n",
       "      <th>2</th>\n",
       "      <td>2020-01-26</td>\n",
       "      <td>2020-01-26</td>\n",
       "      <td>NaN</td>\n",
       "      <td>1</td>\n",
       "      <td>6</td>\n",
       "    </tr>\n",
       "    <tr>\n",
       "      <th>3</th>\n",
       "      <td>2020-01-27</td>\n",
       "      <td>2020-01-27</td>\n",
       "      <td>NaN</td>\n",
       "      <td>1</td>\n",
       "      <td>0</td>\n",
       "    </tr>\n",
       "    <tr>\n",
       "      <th>4</th>\n",
       "      <td>2020-01-28</td>\n",
       "      <td>2020-01-28</td>\n",
       "      <td>NaN</td>\n",
       "      <td>1</td>\n",
       "      <td>1</td>\n",
       "    </tr>\n",
       "    <tr>\n",
       "      <th>...</th>\n",
       "      <td>...</td>\n",
       "      <td>...</td>\n",
       "      <td>...</td>\n",
       "      <td>...</td>\n",
       "      <td>...</td>\n",
       "    </tr>\n",
       "    <tr>\n",
       "      <th>154</th>\n",
       "      <td>2020-06-26</td>\n",
       "      <td>2020-06-26</td>\n",
       "      <td>17.0</td>\n",
       "      <td>6</td>\n",
       "      <td>4</td>\n",
       "    </tr>\n",
       "    <tr>\n",
       "      <th>155</th>\n",
       "      <td>2020-06-27</td>\n",
       "      <td>2020-06-27</td>\n",
       "      <td>14.0</td>\n",
       "      <td>6</td>\n",
       "      <td>5</td>\n",
       "    </tr>\n",
       "    <tr>\n",
       "      <th>156</th>\n",
       "      <td>2020-06-28</td>\n",
       "      <td>2020-06-28</td>\n",
       "      <td>7.0</td>\n",
       "      <td>6</td>\n",
       "      <td>6</td>\n",
       "    </tr>\n",
       "    <tr>\n",
       "      <th>157</th>\n",
       "      <td>2020-06-29</td>\n",
       "      <td>2020-06-29</td>\n",
       "      <td>8.0</td>\n",
       "      <td>6</td>\n",
       "      <td>0</td>\n",
       "    </tr>\n",
       "    <tr>\n",
       "      <th>158</th>\n",
       "      <td>2020-06-30</td>\n",
       "      <td>2020-06-30</td>\n",
       "      <td>8.0</td>\n",
       "      <td>6</td>\n",
       "      <td>1</td>\n",
       "    </tr>\n",
       "  </tbody>\n",
       "</table>\n",
       "<p>159 rows × 5 columns</p>\n",
       "</div>"
      ],
      "text/plain": [
       "          확진일자     확진일자_x  확진일자_y  확진월  확진요일\n",
       "0   2020-01-24 2020-01-24     1.0    1     4\n",
       "1   2020-01-25 2020-01-25     NaN    1     5\n",
       "2   2020-01-26 2020-01-26     NaN    1     6\n",
       "3   2020-01-27 2020-01-27     NaN    1     0\n",
       "4   2020-01-28 2020-01-28     NaN    1     1\n",
       "..         ...        ...     ...  ...   ...\n",
       "154 2020-06-26 2020-06-26    17.0    6     4\n",
       "155 2020-06-27 2020-06-27    14.0    6     5\n",
       "156 2020-06-28 2020-06-28     7.0    6     6\n",
       "157 2020-06-29 2020-06-29     8.0    6     0\n",
       "158 2020-06-30 2020-06-30     8.0    6     1\n",
       "\n",
       "[159 rows x 5 columns]"
      ]
     },
     "execution_count": 33,
     "metadata": {},
     "output_type": "execute_result"
    }
   ],
   "source": [
    "# 결측치 치환 및 값 누적\n",
    "all_day['누적확진'] = all_day['확진수'].fillna(0).cumsum()\n",
    "all_day"
   ]
  },
  {
   "cell_type": "code",
   "execution_count": null,
   "id": "db537914",
   "metadata": {
    "ExecuteTime": {
     "end_time": "2021-08-27T11:21:28.169830Z",
     "start_time": "2021-08-27T11:21:18.272Z"
    }
   },
   "outputs": [],
   "source": [
    "all_day['일자'] = all_day['확진일자'].astype(str).map(lambda x:x[-5:])\n",
    "all_day.head()"
   ]
  },
  {
   "cell_type": "code",
   "execution_count": null,
   "id": "f2e81d4e",
   "metadata": {
    "ExecuteTime": {
     "end_time": "2021-08-27T11:21:28.171825Z",
     "start_time": "2021-08-27T11:21:18.275Z"
    }
   },
   "outputs": [],
   "source": [
    "cum_day = all_day[['일자', '확진수', '누적확진']]\n",
    "cum_day = cum_day.set_index('일자')\n",
    "cum_day                    "
   ]
  },
  {
   "cell_type": "code",
   "execution_count": null,
   "id": "72a62168",
   "metadata": {
    "ExecuteTime": {
     "end_time": "2021-08-27T11:21:28.173784Z",
     "start_time": "2021-08-27T11:21:18.278Z"
    }
   },
   "outputs": [],
   "source": [
    "cum_day.plot(figsize=(15, 4))"
   ]
  },
  {
   "cell_type": "code",
   "execution_count": null,
   "id": "2cf3668d",
   "metadata": {
    "ExecuteTime": {
     "end_time": "2021-08-27T11:21:28.175778Z",
     "start_time": "2021-08-27T11:21:18.282Z"
    }
   },
   "outputs": [],
   "source": [
    "# 시리즈로 그리기\n",
    "cum_day['누적확진'].plot(figsize=(15,4))\n",
    "cum_day['확진수'].plot()\n",
    "\n",
    "# 두 그래프의 차이가 커서 밑에 그래프는 잘 안보인다"
   ]
  },
  {
   "cell_type": "code",
   "execution_count": null,
   "id": "4c69fd8e",
   "metadata": {
    "ExecuteTime": {
     "end_time": "2021-08-27T11:21:28.177772Z",
     "start_time": "2021-08-27T11:21:18.285Z"
    }
   },
   "outputs": [],
   "source": [
    "# 로그스케일\n",
    "# log는 1이하에서 -무한에 수렴할 수 있어서 이를 방지하고자 +1\n",
    "np.log(cum_day['누적확진'] + 1).plot(figsize=(15,4))\n",
    "np.log(cum_day['확진수'] + 1).plot()"
   ]
  },
  {
   "cell_type": "code",
   "execution_count": 25,
   "id": "00f6e99d",
   "metadata": {
    "ExecuteTime": {
     "end_time": "2021-08-27T11:22:49.166422Z",
     "start_time": "2021-08-27T11:22:49.138222Z"
    }
   },
   "outputs": [
    {
     "data": {
      "text/html": [
       "<div>\n",
       "<style scoped>\n",
       "    .dataframe tbody tr th:only-of-type {\n",
       "        vertical-align: middle;\n",
       "    }\n",
       "\n",
       "    .dataframe tbody tr th {\n",
       "        vertical-align: top;\n",
       "    }\n",
       "\n",
       "    .dataframe thead th {\n",
       "        text-align: right;\n",
       "    }\n",
       "</style>\n",
       "<table border=\"1\" class=\"dataframe\">\n",
       "  <thead>\n",
       "    <tr style=\"text-align: right;\">\n",
       "      <th></th>\n",
       "      <th>확진일자</th>\n",
       "      <th>확진일자_x</th>\n",
       "      <th>확진일자_y</th>\n",
       "      <th>확진월</th>\n",
       "      <th>확진요일</th>\n",
       "    </tr>\n",
       "  </thead>\n",
       "  <tbody>\n",
       "    <tr>\n",
       "      <th>0</th>\n",
       "      <td>2020-01-24</td>\n",
       "      <td>2020-01-24</td>\n",
       "      <td>1.0</td>\n",
       "      <td>1</td>\n",
       "      <td>4</td>\n",
       "    </tr>\n",
       "    <tr>\n",
       "      <th>1</th>\n",
       "      <td>2020-01-25</td>\n",
       "      <td>2020-01-25</td>\n",
       "      <td>NaN</td>\n",
       "      <td>1</td>\n",
       "      <td>5</td>\n",
       "    </tr>\n",
       "    <tr>\n",
       "      <th>2</th>\n",
       "      <td>2020-01-26</td>\n",
       "      <td>2020-01-26</td>\n",
       "      <td>NaN</td>\n",
       "      <td>1</td>\n",
       "      <td>6</td>\n",
       "    </tr>\n",
       "    <tr>\n",
       "      <th>3</th>\n",
       "      <td>2020-01-27</td>\n",
       "      <td>2020-01-27</td>\n",
       "      <td>NaN</td>\n",
       "      <td>1</td>\n",
       "      <td>0</td>\n",
       "    </tr>\n",
       "    <tr>\n",
       "      <th>4</th>\n",
       "      <td>2020-01-28</td>\n",
       "      <td>2020-01-28</td>\n",
       "      <td>NaN</td>\n",
       "      <td>1</td>\n",
       "      <td>1</td>\n",
       "    </tr>\n",
       "  </tbody>\n",
       "</table>\n",
       "</div>"
      ],
      "text/plain": [
       "        확진일자     확진일자_x  확진일자_y  확진월  확진요일\n",
       "0 2020-01-24 2020-01-24     1.0    1     4\n",
       "1 2020-01-25 2020-01-25     NaN    1     5\n",
       "2 2020-01-26 2020-01-26     NaN    1     6\n",
       "3 2020-01-27 2020-01-27     NaN    1     0\n",
       "4 2020-01-28 2020-01-28     NaN    1     1"
      ]
     },
     "execution_count": 25,
     "metadata": {},
     "output_type": "execute_result"
    }
   ],
   "source": [
    "# 확진월과 요일 구하기\n",
    "# cum_day\n",
    "all_day['확진월'] = all_day['확진일자'].dt.month\n",
    "all_day['확진요일'] = all_day['확진일자'].dt.dayofweek\n",
    "all_day.head()"
   ]
  },
  {
   "cell_type": "code",
   "execution_count": 31,
   "id": "fcbc5a03",
   "metadata": {
    "ExecuteTime": {
     "end_time": "2021-08-27T11:25:45.141268Z",
     "start_time": "2021-08-27T11:25:45.108373Z"
    }
   },
   "outputs": [
    {
     "ename": "KeyError",
     "evalue": "'Column not found: 확진수'",
     "output_type": "error",
     "traceback": [
      "\u001b[1;31m---------------------------------------------------------------------------\u001b[0m",
      "\u001b[1;31mKeyError\u001b[0m                                  Traceback (most recent call last)",
      "\u001b[1;32m<ipython-input-31-7017ad99c86c>\u001b[0m in \u001b[0;36m<module>\u001b[1;34m\u001b[0m\n\u001b[1;32m----> 1\u001b[1;33m \u001b[0mall_day\u001b[0m\u001b[1;33m.\u001b[0m\u001b[0mgroupby\u001b[0m\u001b[1;33m(\u001b[0m\u001b[1;33m[\u001b[0m\u001b[1;34m'확진월'\u001b[0m\u001b[1;33m,\u001b[0m \u001b[1;34m'확진요일'\u001b[0m\u001b[1;33m]\u001b[0m\u001b[1;33m)\u001b[0m\u001b[1;33m[\u001b[0m\u001b[1;34m'확진수'\u001b[0m\u001b[1;33m]\u001b[0m\u001b[1;33m.\u001b[0m\u001b[0msum\u001b[0m\u001b[1;33m(\u001b[0m\u001b[1;33m)\u001b[0m\u001b[1;33m\u001b[0m\u001b[1;33m\u001b[0m\u001b[0m\n\u001b[0m",
      "\u001b[1;32m~\\anaconda3\\envs\\init_dn\\lib\\site-packages\\pandas\\core\\groupby\\generic.py\u001b[0m in \u001b[0;36m__getitem__\u001b[1;34m(self, key)\u001b[0m\n\u001b[0;32m   1540\u001b[0m                 \u001b[0mstacklevel\u001b[0m\u001b[1;33m=\u001b[0m\u001b[1;36m2\u001b[0m\u001b[1;33m,\u001b[0m\u001b[1;33m\u001b[0m\u001b[1;33m\u001b[0m\u001b[0m\n\u001b[0;32m   1541\u001b[0m             )\n\u001b[1;32m-> 1542\u001b[1;33m         \u001b[1;32mreturn\u001b[0m \u001b[0msuper\u001b[0m\u001b[1;33m(\u001b[0m\u001b[1;33m)\u001b[0m\u001b[1;33m.\u001b[0m\u001b[0m__getitem__\u001b[0m\u001b[1;33m(\u001b[0m\u001b[0mkey\u001b[0m\u001b[1;33m)\u001b[0m\u001b[1;33m\u001b[0m\u001b[1;33m\u001b[0m\u001b[0m\n\u001b[0m\u001b[0;32m   1543\u001b[0m \u001b[1;33m\u001b[0m\u001b[0m\n\u001b[0;32m   1544\u001b[0m     \u001b[1;32mdef\u001b[0m \u001b[0m_gotitem\u001b[0m\u001b[1;33m(\u001b[0m\u001b[0mself\u001b[0m\u001b[1;33m,\u001b[0m \u001b[0mkey\u001b[0m\u001b[1;33m,\u001b[0m \u001b[0mndim\u001b[0m\u001b[1;33m:\u001b[0m \u001b[0mint\u001b[0m\u001b[1;33m,\u001b[0m \u001b[0msubset\u001b[0m\u001b[1;33m=\u001b[0m\u001b[1;32mNone\u001b[0m\u001b[1;33m)\u001b[0m\u001b[1;33m:\u001b[0m\u001b[1;33m\u001b[0m\u001b[1;33m\u001b[0m\u001b[0m\n",
      "\u001b[1;32m~\\anaconda3\\envs\\init_dn\\lib\\site-packages\\pandas\\core\\base.py\u001b[0m in \u001b[0;36m__getitem__\u001b[1;34m(self, key)\u001b[0m\n\u001b[0;32m    278\u001b[0m             \u001b[1;31m# error: \"SelectionMixin\" has no attribute \"obj\"  [attr-defined]\u001b[0m\u001b[1;33m\u001b[0m\u001b[1;33m\u001b[0m\u001b[1;33m\u001b[0m\u001b[0m\n\u001b[0;32m    279\u001b[0m             \u001b[1;32mif\u001b[0m \u001b[0mkey\u001b[0m \u001b[1;32mnot\u001b[0m \u001b[1;32min\u001b[0m \u001b[0mself\u001b[0m\u001b[1;33m.\u001b[0m\u001b[0mobj\u001b[0m\u001b[1;33m:\u001b[0m  \u001b[1;31m# type: ignore[attr-defined]\u001b[0m\u001b[1;33m\u001b[0m\u001b[1;33m\u001b[0m\u001b[0m\n\u001b[1;32m--> 280\u001b[1;33m                 \u001b[1;32mraise\u001b[0m \u001b[0mKeyError\u001b[0m\u001b[1;33m(\u001b[0m\u001b[1;34mf\"Column not found: {key}\"\u001b[0m\u001b[1;33m)\u001b[0m\u001b[1;33m\u001b[0m\u001b[1;33m\u001b[0m\u001b[0m\n\u001b[0m\u001b[0;32m    281\u001b[0m             \u001b[1;32mreturn\u001b[0m \u001b[0mself\u001b[0m\u001b[1;33m.\u001b[0m\u001b[0m_gotitem\u001b[0m\u001b[1;33m(\u001b[0m\u001b[0mkey\u001b[0m\u001b[1;33m,\u001b[0m \u001b[0mndim\u001b[0m\u001b[1;33m=\u001b[0m\u001b[1;36m1\u001b[0m\u001b[1;33m)\u001b[0m\u001b[1;33m\u001b[0m\u001b[1;33m\u001b[0m\u001b[0m\n\u001b[0;32m    282\u001b[0m \u001b[1;33m\u001b[0m\u001b[0m\n",
      "\u001b[1;31mKeyError\u001b[0m: 'Column not found: 확진수'"
     ]
    }
   ],
   "source": [
    "all_day.groupby(['확진월', '확진요일'])['확진수'].sum()"
   ]
  }
 ],
 "metadata": {
  "hide_input": false,
  "kernelspec": {
   "display_name": "Python 3",
   "language": "python",
   "name": "python3"
  },
  "language_info": {
   "codemirror_mode": {
    "name": "ipython",
    "version": 3
   },
   "file_extension": ".py",
   "mimetype": "text/x-python",
   "name": "python",
   "nbconvert_exporter": "python",
   "pygments_lexer": "ipython3",
   "version": "3.9.5"
  },
  "toc": {
   "base_numbering": 1,
   "nav_menu": {},
   "number_sections": true,
   "sideBar": true,
   "skip_h1_title": false,
   "title_cell": "Table of Contents",
   "title_sidebar": "Contents",
   "toc_cell": false,
   "toc_position": {},
   "toc_section_display": true,
   "toc_window_display": false
  },
  "varInspector": {
   "cols": {
    "lenName": 16,
    "lenType": 16,
    "lenVar": 40
   },
   "kernels_config": {
    "python": {
     "delete_cmd_postfix": "",
     "delete_cmd_prefix": "del ",
     "library": "var_list.py",
     "varRefreshCmd": "print(var_dic_list())"
    },
    "r": {
     "delete_cmd_postfix": ") ",
     "delete_cmd_prefix": "rm(",
     "library": "var_list.r",
     "varRefreshCmd": "cat(var_dic_list()) "
    }
   },
   "types_to_exclude": [
    "module",
    "function",
    "builtin_function_or_method",
    "instance",
    "_Feature"
   ],
   "window_display": false
  }
 },
 "nbformat": 4,
 "nbformat_minor": 5
}
