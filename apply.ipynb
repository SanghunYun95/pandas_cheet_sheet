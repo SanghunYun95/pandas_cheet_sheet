{
 "cells": [
  {
   "cell_type": "code",
   "execution_count": 1,
   "id": "7de38214",
   "metadata": {},
   "outputs": [],
   "source": [
    "import pandas as pd\n",
    "import seaborn as sns\n",
    "\n",
    "df = sns.load_dataset('iris')"
   ]
  },
  {
   "cell_type": "code",
   "execution_count": 2,
   "id": "6aef7d68",
   "metadata": {},
   "outputs": [
    {
     "data": {
      "text/plain": [
       "sepal_length       5.1\n",
       "sepal_width        3.5\n",
       "petal_length       1.4\n",
       "petal_width        0.2\n",
       "species         setosa\n",
       "dtype: object"
      ]
     },
     "execution_count": 2,
     "metadata": {},
     "output_type": "execute_result"
    }
   ],
   "source": [
    "df.apply(lambda x : x[0])"
   ]
  },
  {
   "cell_type": "code",
   "execution_count": 3,
   "id": "1e4d469f",
   "metadata": {},
   "outputs": [
    {
     "data": {
      "text/plain": [
       "0      set\n",
       "1      set\n",
       "2      set\n",
       "3      set\n",
       "4      set\n",
       "      ... \n",
       "145    vir\n",
       "146    vir\n",
       "147    vir\n",
       "148    vir\n",
       "149    vir\n",
       "Name: species, Length: 150, dtype: object"
      ]
     },
     "execution_count": 3,
     "metadata": {},
     "output_type": "execute_result"
    }
   ],
   "source": [
    "df['species'].apply(lambda x : x[:3])"
   ]
  },
  {
   "cell_type": "code",
   "execution_count": null,
   "id": "7bfef52a",
   "metadata": {},
   "outputs": [],
   "source": [
    "# apply는 전처리를 통한 새로운 컬럼을 만들지만 바로 데이터프레임에 적용되지 않는다.\n",
    "# 직접 할당을 해줘야 함\n",
    "\n",
    "# assign은 할당까지 된다."
   ]
  }
 ],
 "metadata": {
  "kernelspec": {
   "display_name": "Python 3",
   "language": "python",
   "name": "python3"
  },
  "language_info": {
   "codemirror_mode": {
    "name": "ipython",
    "version": 3
   },
   "file_extension": ".py",
   "mimetype": "text/x-python",
   "name": "python",
   "nbconvert_exporter": "python",
   "pygments_lexer": "ipython3",
   "version": "3.9.5"
  }
 },
 "nbformat": 4,
 "nbformat_minor": 5
}
